{
 "cells": [
  {
   "cell_type": "markdown",
   "metadata": {},
   "source": [
    "# Import all library "
   ]
  },
  {
   "cell_type": "code",
   "execution_count": 1,
   "metadata": {
    "id": "wx-rFptCj3bF"
   },
   "outputs": [],
   "source": [
    "import tensorflow as tf\n",
    "import tensorflow_addons as tfa\n",
    "\n",
    "import matplotlib.pyplot as plt\n",
    "import matplotlib.ticker as ticker\n",
    "from sklearn.model_selection import train_test_split\n",
    "\n",
    "import random\n",
    "import unicodedata\n",
    "import re\n",
    "import numpy as np\n",
    "import os\n",
    "import io\n",
    "import time"
   ]
  },
  {
   "cell_type": "markdown",
   "metadata": {},
   "source": [
    "# Create the class for doing preprocessing and separation of dataset"
   ]
  },
  {
   "cell_type": "code",
   "execution_count": 2,
   "metadata": {
    "id": "Lc8QcYwvzmw-"
   },
   "outputs": [],
   "source": [
    "class NMTDataset:\n",
    "    def __init__(self, problem_type='it-en'):\n",
    "        self.problem_type = 'it-en'\n",
    "        self.inp_lang_tokenizer = None\n",
    "        self.targ_lang_tokenizer = None\n",
    "        \n",
    "    \n",
    "    def shuffle_all(self,path_input,path_output):\n",
    "        lines = open(path_input, encoding='UTF-8').readlines()\n",
    "        random.shuffle(lines)\n",
    "        open(path_output, 'w' , encoding=\"utf-8\").writelines(lines)\n",
    "\n",
    "\n",
    "    def unicode_to_ascii(self, s):\n",
    "        return ''.join(c for c in unicodedata.normalize('NFD', s) if unicodedata.category(c) != 'Mn')\n",
    "\n",
    "\n",
    "    def preprocess_sentence(self, w):\n",
    "        w = self.unicode_to_ascii(w.lower().strip())\n",
    "\n",
    "        # creating a space between a word and the punctuation following it\n",
    "        # eg: \"he is a boy.\" => \"he is a boy .\"\n",
    "        # Reference:- https://stackoverflow.com/questions/3645931/python-padding-punctuation-with-white-spaces-keeping-punctuation\n",
    "        w = re.sub(r\"([?.!,])\", r\" \\1 \", w)\n",
    "        w = re.sub(r'[\" \"]+', \" \", w)\n",
    "        \n",
    "\n",
    "        # replacing everything with space except (a-z, A-Z, \".\", \"?\", \"!\", \",\")\n",
    "        w = re.sub(r\"[^a-zA-Z?.!,]+\", \" \", w)\n",
    "\n",
    "        w = w.strip()\n",
    "\n",
    "        # adding a start and an end token to the sentence so that the model know when to start and stop predicting.\n",
    "        w = '<start> ' + w + ' <end>'\n",
    "        return w\n",
    "\n",
    "    def create_dataset(self, path, num_examples):\n",
    "        # path : path to ita-eng.txt file\n",
    "        \n",
    "        #do not comment this function if we you want to mix data\n",
    "        #self.shuffle_all('it.txt','first_shuffle_data.txt')\n",
    "        lines = io.open(path, encoding='UTF-8').read().strip().split('\\n')\n",
    "\n",
    "        word_pairs = [[self.preprocess_sentence(w) for w in l.split('\\t')]  for l in lines[:num_examples]]\n",
    "\n",
    "        return zip(*word_pairs)\n",
    "\n",
    "\n",
    "    def tokenize(self, lang):\n",
    "        # lang = list of sentences in a language\n",
    "\n",
    "        lang_tokenizer = tf.keras.preprocessing.text.Tokenizer(filters='', oov_token='<OOV>')\n",
    "        lang_tokenizer.fit_on_texts(lang)\n",
    "\n",
    "        ## tf.keras.preprocessing.text.Tokenizer.texts_to_sequences converts string (w1, w2, w3, ......, wn) \n",
    "        ## to a list of correspoding integer ids of words (id_w1, id_w2, id_w3, ...., id_wn)\n",
    "        tensor = lang_tokenizer.texts_to_sequences(lang) \n",
    "\n",
    "        ## tf.keras.preprocessing.sequence.pad_sequences takes argument a list of integer id sequences \n",
    "        ## and pads the sequences to match the longest sequences in the given input\n",
    "        tensor = tf.keras.preprocessing.sequence.pad_sequences(tensor, padding='post')\n",
    "\n",
    "        return tensor, lang_tokenizer\n",
    "\n",
    "    def load_dataset(self, path, num_examples=None):\n",
    "        # creating cleaned input, output pairs\n",
    "        targ_lang, inp_lang = self.create_dataset(path, num_examples)\n",
    "        \n",
    "        train_targ, test_targ, train_inp, test_inp = train_test_split(targ_lang, inp_lang, test_size=0.2, shuffle = True, random_state = 8)\n",
    "\n",
    "        input_tensor, inp_lang_tokenizer = self.tokenize(train_inp)\n",
    "        target_tensor, targ_lang_tokenizer = self.tokenize(train_targ)\n",
    "\n",
    "        return input_tensor, target_tensor, inp_lang_tokenizer, targ_lang_tokenizer,test_targ,test_inp\n",
    "\n",
    "    def call(self, num_examples, BUFFER_SIZE, BATCH_SIZE):\n",
    "        file_path = 'dataset/first_shuffle_data.txt'\n",
    "        input_tensor, target_tensor, self.inp_lang_tokenizer, self.targ_lang_tokenizer,test_targ,test_inp = self.load_dataset(file_path, num_examples)\n",
    "        \n",
    "        input_tensor_test, inp_lang_tokenizer = self.tokenize(test_inp)\n",
    "        target_tensor_test, targ_lang_tokenizer = self.tokenize(test_targ)\n",
    "\n",
    "        test_dataset = [test_targ, test_inp]\n",
    "        \n",
    "        #separate training with validation\n",
    "        train_x, X_val, train_y, y_val = train_test_split(input_tensor, target_tensor, test_size=0.25) # 0.25 x 0.8 = 0.2\n",
    "\n",
    "        train_dataset = tf.data.Dataset.from_tensor_slices((train_x, train_y))\n",
    "        train_dataset = train_dataset.shuffle(BUFFER_SIZE).batch(BATCH_SIZE, drop_remainder=True)\n",
    "\n",
    "        val_dataset = tf.data.Dataset.from_tensor_slices((X_val, y_val))\n",
    "        val_dataset = val_dataset.batch(BATCH_SIZE, drop_remainder=True)\n",
    "        \n",
    "        test_data = tf.data.Dataset.from_tensor_slices((input_tensor_test, target_tensor_test))\n",
    "        test_data = test_data.batch(BATCH_SIZE, drop_remainder=True)\n",
    "\n",
    "        return train_dataset, val_dataset, test_dataset, test_data, self.inp_lang_tokenizer, self.targ_lang_tokenizer"
   ]
  },
  {
   "cell_type": "markdown",
   "metadata": {},
   "source": [
    "## Test the class with some function"
   ]
  },
  {
   "cell_type": "markdown",
   "metadata": {},
   "source": [
    "#### Let's print some functions of the class"
   ]
  },
  {
   "cell_type": "code",
   "execution_count": 3,
   "metadata": {},
   "outputs": [],
   "source": [
    "dataset_creator = NMTDataset('it-en')"
   ]
  },
  {
   "cell_type": "markdown",
   "metadata": {},
   "source": [
    "#### preprocess_sentence"
   ]
  },
  {
   "cell_type": "code",
   "execution_count": 4,
   "metadata": {},
   "outputs": [
    {
     "name": "stdout",
     "output_type": "stream",
     "text": [
      "<start> prova di preprocessing . <end>\n"
     ]
    }
   ],
   "source": [
    "tot= dataset_creator.preprocess_sentence(\"prova di preprocessing .\")\n",
    "print(tot)"
   ]
  },
  {
   "cell_type": "markdown",
   "metadata": {},
   "source": [
    "#### create_dataset"
   ]
  },
  {
   "cell_type": "code",
   "execution_count": 5,
   "metadata": {},
   "outputs": [
    {
     "name": "stdout",
     "output_type": "stream",
     "text": [
      "<start> tom looks very pleased . <end>\n",
      "<start> tom sembra molto compiaciuto . <end>\n"
     ]
    }
   ],
   "source": [
    "frase_input,frase_output=dataset_creator.create_dataset('dataset/first_shuffle_data.txt',50)\n",
    "print(frase_input[0])\n",
    "print(frase_output[0])"
   ]
  },
  {
   "cell_type": "markdown",
   "metadata": {},
   "source": [
    "#### load_dataset"
   ]
  },
  {
   "cell_type": "code",
   "execution_count": 6,
   "metadata": {},
   "outputs": [
    {
     "name": "stdout",
     "output_type": "stream",
     "text": [
      "[[ 2  3  6  7  8  9  4  5]\n",
      " [ 2 10  3 11 12  4  5  0]]\n",
      "[[ 2  5  6  7  8  9  3  4]\n",
      " [ 2 10 11 12 13  3  4  0]]\n",
      "{'<OOV>': 1, '<start>': 2, 'sembra': 3, '.': 4, '<end>': 5, 'che': 6, 'piaccia': 7, 'a': 8, 'tutti': 9, 'tom': 10, 'molto': 11, 'compiaciuto': 12}\n",
      "{'<OOV>': 1, '<start>': 2, '.': 3, '<end>': 4, 'everybody': 5, 'seems': 6, 'to': 7, 'like': 8, 'it': 9, 'tom': 10, 'looks': 11, 'very': 12, 'pleased': 13}\n",
      "test_targ: ['<start> i don t know anything about your job . <end>']\n",
      "test_inp: ['<start> non so niente del vostro lavoro . <end>']\n"
     ]
    }
   ],
   "source": [
    "input_tensor, target_tensor, inp_lang_tokenizer, targ_lang_tokenizer,test_targ,test_inp =dataset_creator.load_dataset('dataset/first_shuffle_data.txt',3)\n",
    "print(input_tensor)\n",
    "print(target_tensor)\n",
    "print(inp_lang_tokenizer.word_index)\n",
    "print(targ_lang_tokenizer.word_index)\n",
    "print(\"test_targ:\",test_targ)\n",
    "print(\"test_inp:\",test_inp)"
   ]
  },
  {
   "cell_type": "code",
   "execution_count": 7,
   "metadata": {
    "colab": {
     "base_uri": "https://localhost:8080/"
    },
    "id": "n0cGJA8TSWZ0",
    "outputId": "eef9059b-e12b-41c6-edf7-16b3600aa15b"
   },
   "outputs": [
    {
     "name": "stdout",
     "output_type": "stream",
     "text": [
      "numero di line:  352894\n"
     ]
    }
   ],
   "source": [
    "lines = io.open('dataset/first_shuffle_data.txt', encoding='UTF-8').read().strip().split('\\n')\n",
    "num_examples = len(lines) \n",
    "print(\"numero di line: \", num_examples)"
   ]
  },
  {
   "cell_type": "markdown",
   "metadata": {},
   "source": [
    "# Start creating my model"
   ]
  },
  {
   "cell_type": "markdown",
   "metadata": {},
   "source": [
    "#### setting first parameters"
   ]
  },
  {
   "cell_type": "code",
   "execution_count": 8,
   "metadata": {
    "id": "J99M-_O0zoFb"
   },
   "outputs": [],
   "source": [
    "BATCH_SIZE = 64\n",
    "\n",
    "num_examples = 30000\n",
    "\n",
    "BUFFER_SIZE = 30000 \n",
    "\n",
    "\n",
    "dataset_creator = NMTDataset('it-en')\n",
    "train_dataset, val_dataset, test_dataset, test_data, inp_lang, targ_lang = dataset_creator.call(num_examples, BUFFER_SIZE, BATCH_SIZE)"
   ]
  },
  {
   "cell_type": "code",
   "execution_count": 9,
   "metadata": {
    "id": "n0MxV22Gzphl"
   },
   "outputs": [
    {
     "data": {
      "text/plain": [
       "(TensorShape([64, 79]), TensorShape([64, 76]))"
      ]
     },
     "execution_count": 9,
     "metadata": {},
     "output_type": "execute_result"
    }
   ],
   "source": [
    "example_input_batch, example_target_batch = next(iter(train_dataset))\n",
    "example_input_batch.shape, example_target_batch.shape"
   ]
  },
  {
   "cell_type": "code",
   "execution_count": 10,
   "metadata": {
    "id": "WEAMEDfzzsB7"
   },
   "outputs": [
    {
     "name": "stdout",
     "output_type": "stream",
     "text": [
      "max_length_input 79\n",
      "max_length_output 76\n",
      "steps_per_epoch: 281\n"
     ]
    }
   ],
   "source": [
    "vocab_inp_size = len(inp_lang.word_index)+1\n",
    "vocab_tar_size = len(targ_lang.word_index)+1\n",
    "max_length_input = example_input_batch.shape[1]\n",
    "max_length_output = example_target_batch.shape[1]\n",
    "\n",
    "print('max_length_input',max_length_input)\n",
    "print('max_length_output',max_length_output)\n",
    "\n",
    "embedding_dim = 512 \n",
    "units = 1024 \n",
    "steps_per_epoch = int((((num_examples*80)/100)*75)/100//BATCH_SIZE)\n",
    "print(\"steps_per_epoch:\",steps_per_epoch)"
   ]
  },
  {
   "cell_type": "code",
   "execution_count": 11,
   "metadata": {
    "id": "nJbQgvdHzuTf"
   },
   "outputs": [
    {
     "name": "stdout",
     "output_type": "stream",
     "text": [
      "max_length_english, max_length_italian, vocab_size_english, vocab_size_italian\n"
     ]
    },
    {
     "data": {
      "text/plain": [
       "(79, 76, 9721, 5965)"
      ]
     },
     "execution_count": 11,
     "metadata": {},
     "output_type": "execute_result"
    }
   ],
   "source": [
    "print(\"max_length_english, max_length_italian, vocab_size_english, vocab_size_italian\")\n",
    "max_length_input, max_length_output, vocab_inp_size, vocab_tar_size"
   ]
  },
  {
   "cell_type": "markdown",
   "metadata": {},
   "source": [
    "## Encoder"
   ]
  },
  {
   "cell_type": "code",
   "execution_count": 12,
   "metadata": {
    "id": "bDRYxjgizwRL"
   },
   "outputs": [],
   "source": [
    "#####\n",
    "\n",
    "class Encoder(tf.keras.Model):\n",
    "  def __init__(self, vocab_size, embedding_dim, enc_units, batch_sz):\n",
    "    super(Encoder, self).__init__()\n",
    "    self.batch_sz = batch_sz\n",
    "    self.enc_units = enc_units\n",
    "                                    #Embedding (input_dim,output_dim)\n",
    "    self.embedding = tf.keras.layers.Embedding(vocab_size, embedding_dim)\n",
    "\n",
    "    ##-------- LSTM layer in Encoder ------- ##\n",
    "    self.lstm_layer = tf.keras.layers.LSTM(self.enc_units,\n",
    "                                   return_sequences=True,\n",
    "                                   return_state=True)\n",
    "\n",
    "\n",
    "  def call(self, x, hidden):\n",
    "    x = self.embedding(x)\n",
    "    #h=hidden state\n",
    "    #c=cell state\n",
    "    output, h, c = self.lstm_layer(x, initial_state = hidden)\n",
    "    return output, h, c\n",
    "\n",
    "  def initialize_hidden_state(self):\n",
    "    return [tf.zeros((self.batch_sz, self.enc_units)), tf.zeros((self.batch_sz, self.enc_units))]"
   ]
  },
  {
   "cell_type": "markdown",
   "metadata": {},
   "source": [
    "### Test Encoder Stack"
   ]
  },
  {
   "cell_type": "code",
   "execution_count": 13,
   "metadata": {
    "id": "lTh-pLdSzymE"
   },
   "outputs": [
    {
     "name": "stdout",
     "output_type": "stream",
     "text": [
      "Encoder output shape: (batch size, sequence length, units) (64, 79, 1024)\n",
      "Encoder h vecotr shape: (batch size, units) (64, 1024)\n",
      "Encoder c vector shape: (batch size, units) (64, 1024)\n"
     ]
    }
   ],
   "source": [
    "encoder = Encoder(vocab_inp_size, embedding_dim, units, BATCH_SIZE)\n",
    "\n",
    "# sample input\n",
    "sample_hidden = encoder.initialize_hidden_state()\n",
    "sample_output, sample_h, sample_c = encoder(example_input_batch, sample_hidden)\n",
    "print ('Encoder output shape: (batch size, sequence length, units) {}'.format(sample_output.shape))\n",
    "print ('Encoder h vecotr shape: (batch size, units) {}'.format(sample_h.shape))\n",
    "print ('Encoder c vector shape: (batch size, units) {}'.format(sample_c.shape))"
   ]
  },
  {
   "cell_type": "markdown",
   "metadata": {},
   "source": [
    "## Decoder"
   ]
  },
  {
   "cell_type": "code",
   "execution_count": 14,
   "metadata": {
    "id": "O45Yz4GKzzx5"
   },
   "outputs": [],
   "source": [
    "class Decoder(tf.keras.Model):\n",
    "  def __init__(self, vocab_size, embedding_dim, dec_units, batch_sz, attention_type='luong'):\n",
    "    super(Decoder, self).__init__()\n",
    "    self.batch_sz = batch_sz\n",
    "    self.dec_units = dec_units\n",
    "    self.attention_type = attention_type\n",
    "\n",
    "    # Embedding Layer\n",
    "    self.embedding = tf.keras.layers.Embedding(vocab_size, embedding_dim)\n",
    "\n",
    "    #Final Dense layer on which softmax will be applied\n",
    "    self.fc = tf.keras.layers.Dense(vocab_size)\n",
    "\n",
    "    # Define the fundamental cell for decoder recurrent structure\n",
    "    self.decoder_rnn_cell = tf.keras.layers.LSTMCell(self.dec_units)\n",
    "\n",
    "    # Sampler\n",
    "    self.sampler = tfa.seq2seq.sampler.TrainingSampler()\n",
    "\n",
    "    # Define the decoder with respect to fundamental rnn cell\n",
    "    self.decoder = tfa.seq2seq.BasicDecoder(self.decoder_rnn_cell, sampler=self.sampler, output_layer=self.fc)\n",
    "\n",
    "  def build_initial_state(self, batch_sz, encoder_state, Dtype):\n",
    "    decoder_initial_state = self.decoder_rnn_cell\n",
    "    decoder_initial_state = decoder_initial_state.clone(cell_state=encoder_state)\n",
    "    return decoder_initial_state\n",
    "\n",
    "\n",
    "  def call(self, inputs, initial_state):\n",
    "    x = self.embedding(inputs)\n",
    "    outputs, _, _ = self.decoder(x, initial_state=initial_state, sequence_length=self.batch_sz*[max_length_output-1])\n",
    "    return outputs"
   ]
  },
  {
   "cell_type": "markdown",
   "metadata": {},
   "source": [
    "### Test Decoder Stack"
   ]
  },
  {
   "cell_type": "code",
   "execution_count": 15,
   "metadata": {
    "id": "Wi0FflsHz2FT"
   },
   "outputs": [
    {
     "name": "stdout",
     "output_type": "stream",
     "text": [
      "Decoder Outputs Shape:  (64, 75, 5965)\n"
     ]
    }
   ],
   "source": [
    "\n",
    "decoder = Decoder(vocab_tar_size, embedding_dim, units, BATCH_SIZE)\n",
    "sample_x = tf.random.uniform((BATCH_SIZE, max_length_output))\n",
    "#initial_state = decoder.build_initial_state(BATCH_SIZE, [sample_h, sample_c], tf.float32)\n",
    "\n",
    "sample_decoder_outputs = decoder(sample_x,  [sample_h, sample_c])\n",
    "\n",
    "print(\"Decoder Outputs Shape: \", sample_decoder_outputs.rnn_output.shape)"
   ]
  },
  {
   "cell_type": "markdown",
   "metadata": {},
   "source": [
    "### Define metods for Loss function"
   ]
  },
  {
   "cell_type": "code",
   "execution_count": 16,
   "metadata": {
    "id": "XSaeVRFqz3h9"
   },
   "outputs": [],
   "source": [
    "optimizer = tf.keras.optimizers.Adam()\n",
    "\n",
    "\n",
    "def loss_function(real, pred):\n",
    "  # real shape = (BATCH_SIZE, max_length_output)\n",
    "  # pred shape = (BATCH_SIZE, max_length_output, tar_vocab_size )\n",
    "  cross_entropy = tf.keras.losses.SparseCategoricalCrossentropy(from_logits=True, reduction='none')\n",
    "  loss = cross_entropy(y_true=real, y_pred=pred)\n",
    "  mask = tf.logical_not(tf.math.equal(real,0))   #output 0 for y=0 else output 1\n",
    "  mask = tf.cast(mask, dtype=loss.dtype)\n",
    "  loss = mask* loss \n",
    "  loss = tf.reduce_mean(loss)\n",
    "  return loss"
   ]
  },
  {
   "cell_type": "markdown",
   "metadata": {},
   "source": [
    "## Print Architecture of Model"
   ]
  },
  {
   "cell_type": "markdown",
   "metadata": {},
   "source": [
    "#### Encoder"
   ]
  },
  {
   "cell_type": "code",
   "execution_count": 17,
   "metadata": {},
   "outputs": [
    {
     "name": "stdout",
     "output_type": "stream",
     "text": [
      "Model: \"encoder\"\n",
      "_________________________________________________________________\n",
      " Layer (type)                Output Shape              Param #   \n",
      "=================================================================\n",
      " embedding (Embedding)       multiple                  4977152   \n",
      "                                                                 \n",
      " lstm (LSTM)                 multiple                  6295552   \n",
      "                                                                 \n",
      "=================================================================\n",
      "Total params: 11,272,704\n",
      "Trainable params: 11,272,704\n",
      "Non-trainable params: 0\n",
      "_________________________________________________________________\n"
     ]
    }
   ],
   "source": [
    "encoder.summary()"
   ]
  },
  {
   "cell_type": "markdown",
   "metadata": {},
   "source": [
    "#### Decoder"
   ]
  },
  {
   "cell_type": "code",
   "execution_count": 18,
   "metadata": {},
   "outputs": [
    {
     "name": "stdout",
     "output_type": "stream",
     "text": [
      "Model: \"decoder\"\n",
      "_________________________________________________________________\n",
      " Layer (type)                Output Shape              Param #   \n",
      "=================================================================\n",
      " embedding_1 (Embedding)     multiple                  3054080   \n",
      "                                                                 \n",
      " dense (Dense)               multiple                  6114125   \n",
      "                                                                 \n",
      " lstm_cell_1 (LSTMCell)      multiple                  6295552   \n",
      "                                                                 \n",
      " basic_decoder (BasicDecoder  multiple                 12409677  \n",
      " )                                                               \n",
      "                                                                 \n",
      "=================================================================\n",
      "Total params: 15,463,757\n",
      "Trainable params: 15,463,757\n",
      "Non-trainable params: 0\n",
      "_________________________________________________________________\n"
     ]
    }
   ],
   "source": [
    "decoder.summary()"
   ]
  },
  {
   "cell_type": "markdown",
   "metadata": {},
   "source": [
    "## Checkpoint Settings "
   ]
  },
  {
   "cell_type": "code",
   "execution_count": 19,
   "metadata": {},
   "outputs": [],
   "source": [
    "checkpoint_dir = './training_checkpoints'\n",
    "checkpoint_prefix = os.path.join(checkpoint_dir, \"ckpt\")\n",
    "checkpoint = tf.train.Checkpoint(optimizer=optimizer,\n",
    "                                 encoder=encoder,\n",
    "                                 decoder=decoder)"
   ]
  },
  {
   "cell_type": "markdown",
   "metadata": {},
   "source": [
    "## Train Step"
   ]
  },
  {
   "cell_type": "code",
   "execution_count": 20,
   "metadata": {
    "id": "EgKFTYEyz6zL"
   },
   "outputs": [],
   "source": [
    "@tf.function\n",
    "def train_step(inp, targ, enc_hidden):\n",
    "  loss = 0\n",
    "\n",
    "  with tf.GradientTape() as tape:\n",
    "    enc_output, enc_h, enc_c = encoder(inp, enc_hidden)\n",
    "\n",
    "\n",
    "    dec_input = targ[ : , :-1 ] # Ignore <end> token\n",
    "    real = targ[ : , 1: ]         # ignore <start> token\n",
    "\n",
    "    # Create AttentionWrapperState as initial_state for decoder\n",
    "    #decoder_initial_state = decoder.build_initial_state(BATCH_SIZE, [enc_h, enc_c], tf.float32)\n",
    "    pred = decoder(dec_input, [enc_h, enc_c])\n",
    "    logits = pred.rnn_output\n",
    "    loss = loss_function(real, logits)\n",
    "\n",
    "  variables = encoder.trainable_variables + decoder.trainable_variables\n",
    "  gradients = tape.gradient(loss, variables)\n",
    "  optimizer.apply_gradients(zip(gradients, variables))\n",
    "\n",
    "  return loss"
   ]
  },
  {
   "cell_type": "code",
   "execution_count": 21,
   "metadata": {
    "id": "hsO4u2zDS4VZ"
   },
   "outputs": [
    {
     "name": "stdout",
     "output_type": "stream",
     "text": [
      "ogni epoca duerà: 468\n"
     ]
    }
   ],
   "source": [
    "#steps_per_epoch = num_examples//BATCH_SIZE\n",
    "\n",
    "print(\"ogni epoca duerà:\", num_examples//BATCH_SIZE)"
   ]
  },
  {
   "cell_type": "markdown",
   "metadata": {},
   "source": [
    "## Function for loss on training and validation"
   ]
  },
  {
   "cell_type": "code",
   "execution_count": 22,
   "metadata": {
    "id": "Q7Yiwd1jWaUa"
   },
   "outputs": [],
   "source": [
    "def loss(inp, targ, enc_hidden):\n",
    "  loss = 0\n",
    "  enc_output, enc_h, enc_c = encoder(inp, enc_hidden)\n",
    "\n",
    "  dec_input = targ[ : , :-1 ] # Ignore <end> token\n",
    "  real = targ[ : , 1: ]         # ignore <start> token\n",
    "\n",
    "  # Create AttentionWrapperState as initial_state for decoder\n",
    "  #decoder_initial_state = decoder.build_initial_state(BATCH_SIZE, [enc_h, enc_c], tf.float32)\n",
    "  pred = decoder(dec_input, [enc_h, enc_c])\n",
    "  logits = pred.rnn_output\n",
    "  loss = loss_function(real, logits)\n",
    "  return loss.numpy()"
   ]
  },
  {
   "cell_type": "code",
   "execution_count": 23,
   "metadata": {
    "id": "MW1VFIehpe-r"
   },
   "outputs": [],
   "source": [
    "def validation_score(enc_hidden,dataset):\n",
    "    total_loss=0\n",
    "    conta=0\n",
    "    for (batch, (inp, targ)) in enumerate(dataset.take(steps_per_epoch)):\n",
    "        batch_loss_val = loss(inp, targ, enc_hidden)\n",
    "        total_loss += batch_loss_val\n",
    "        conta +=1\n",
    "    total_loss=total_loss/conta\n",
    "    return total_loss"
   ]
  },
  {
   "cell_type": "code",
   "execution_count": 24,
   "metadata": {
    "id": "VH399lXXVNJR"
   },
   "outputs": [
    {
     "name": "stdout",
     "output_type": "stream",
     "text": [
      "<TakeDataset shapes: ((64, 79), (64, 76)), types: (tf.int32, tf.int32)>\n"
     ]
    }
   ],
   "source": [
    "print(val_dataset.take(steps_per_epoch))"
   ]
  },
  {
   "cell_type": "markdown",
   "metadata": {},
   "source": [
    "#### Graph settings"
   ]
  },
  {
   "cell_type": "code",
   "execution_count": 25,
   "metadata": {
    "id": "299lvVPl5yQ4"
   },
   "outputs": [],
   "source": [
    "def make_graph(loss_tr_values,loss_vl_values):\n",
    "  epochs = range(1, len(loss_vl_values)+1)\n",
    "  plt.plot(epochs, loss_tr_values, 'b', label='Training Loss', c='r')\n",
    "  plt.plot(epochs, loss_vl_values, 'b', label='Validation Loss', c='b')\n",
    "  plt.title('Training and validation Loss')\n",
    "  plt.xlabel('Epochs')\n",
    "  plt.ylabel('Loss')\n",
    "  plt.legend()\n",
    "  plt.show()"
   ]
  },
  {
   "cell_type": "markdown",
   "metadata": {},
   "source": [
    "# Training and Validation"
   ]
  },
  {
   "cell_type": "code",
   "execution_count": 26,
   "metadata": {
    "colab": {
     "background_save": true
    },
    "id": "sC4HuzCEz8HN",
    "outputId": "9facfc62-642f-4903-fbac-614906c5413a"
   },
   "outputs": [
    {
     "name": "stdout",
     "output_type": "stream",
     "text": [
      "le iterazioni totali saranno: 281 per epoca, in totale: 2810\n",
      "Epoch 1/10 Batch 0/281 Loss 0.9182\n",
      "Epoch 1/10 Batch 100/281 Loss 0.4033\n",
      "Epoch 1/10 Batch 200/281 Loss 0.4022\n",
      "Epoch 1/10 Loss 0.4725\n",
      "Time taken for 1 epoch 152.10245418548584 sec\n",
      "\n",
      "Training total score: 0.39127616536574855\n",
      "Validation total score: 0.4049117238290848\n",
      "Total duration: 4.681412390867869 min\n",
      "\n",
      "Epoch 2/10 Batch 0/281 Loss 0.3635\n",
      "Epoch 2/10 Batch 100/281 Loss 0.3583\n",
      "Epoch 2/10 Batch 200/281 Loss 0.3926\n",
      "Epoch 2/10 Loss 0.3764\n",
      "Time taken for 1 epoch 146.9659924507141 sec\n",
      "\n",
      "Training total score: 0.34613755345344543\n",
      "Validation total score: 0.3732315795395964\n",
      "Total duration: 4.515312548478445 min\n",
      "\n",
      "Epoch 3/10 Batch 0/281 Loss 0.3142\n",
      "Epoch 3/10 Batch 100/281 Loss 0.3093\n",
      "Epoch 3/10 Batch 200/281 Loss 0.3141\n",
      "Epoch 3/10 Loss 0.3437\n",
      "Time taken for 1 epoch 145.72936511039734 sec\n",
      "\n",
      "Training total score: 0.3187138795640545\n",
      "Validation total score: 0.36052032920622057\n",
      "Total duration: 4.5296964327494305 min\n",
      "\n",
      "Epoch 4/10 Batch 0/281 Loss 0.3182\n",
      "Epoch 4/10 Batch 100/281 Loss 0.3212\n",
      "Epoch 4/10 Batch 200/281 Loss 0.3112\n",
      "Epoch 4/10 Loss 0.3217\n",
      "Time taken for 1 epoch 146.03793287277222 sec\n",
      "\n",
      "Training total score: 0.2990996235206034\n",
      "Validation total score: 0.3538010335096749\n",
      "Total duration: 4.497873258590698 min\n",
      "\n",
      "Epoch 5/10 Batch 0/281 Loss 0.3317\n",
      "Epoch 5/10 Batch 100/281 Loss 0.2971\n",
      "Epoch 5/10 Batch 200/281 Loss 0.3035\n",
      "Epoch 5/10 Loss 0.3024\n",
      "Time taken for 1 epoch 144.5837185382843 sec\n",
      "\n",
      "Training total score: 0.2798803965710236\n",
      "Validation total score: 0.3500612153801867\n",
      "Total duration: 4.484737730026245 min\n",
      "\n",
      "Epoch 6/10 Batch 0/281 Loss 0.2833\n",
      "Epoch 6/10 Batch 100/281 Loss 0.2815\n",
      "Epoch 6/10 Batch 200/281 Loss 0.2861\n",
      "Epoch 6/10 Loss 0.2853\n",
      "Time taken for 1 epoch 144.90588235855103 sec\n",
      "\n",
      "Training total score: 0.26363702648687193\n",
      "Validation total score: 0.3487929108963218\n",
      "Total duration: 4.48989071448644 min\n",
      "\n",
      "Epoch 7/10 Batch 0/281 Loss 0.2667\n",
      "Epoch 7/10 Batch 100/281 Loss 0.2511\n",
      "Epoch 7/10 Batch 200/281 Loss 0.2746\n",
      "Epoch 7/10 Loss 0.2698\n",
      "Time taken for 1 epoch 144.50566744804382 sec\n",
      "\n",
      "Training total score: 0.2482163460123157\n",
      "Validation total score: 0.3482041390993262\n",
      "Total duration: 4.476792474587758 min\n",
      "\n",
      "Epoch 8/10 Batch 0/281 Loss 0.2360\n",
      "Epoch 8/10 Batch 100/281 Loss 0.2463\n",
      "Epoch 8/10 Batch 200/281 Loss 0.2418\n",
      "Epoch 8/10 Loss 0.2550\n",
      "Time taken for 1 epoch 145.1179280281067 sec\n",
      "\n",
      "Training total score: 0.2327815861146221\n",
      "Validation total score: 0.3459233048782554\n",
      "Total duration: 4.468005836009979 min\n",
      "\n",
      "Epoch 9/10 Batch 0/281 Loss 0.2419\n",
      "Epoch 9/10 Batch 100/281 Loss 0.2490\n",
      "Epoch 9/10 Batch 200/281 Loss 0.2562\n",
      "Epoch 9/10 Loss 0.2395\n",
      "Time taken for 1 epoch 146.15094256401062 sec\n",
      "\n",
      "Training total score: 0.21889871337659841\n",
      "Validation total score: 0.3449554952882951\n",
      "Total duration: 4.509463214874268 min\n",
      "\n",
      "Epoch 10/10 Batch 0/281 Loss 0.2151\n",
      "Epoch 10/10 Batch 100/281 Loss 0.2285\n",
      "Epoch 10/10 Batch 200/281 Loss 0.2275\n",
      "Epoch 10/10 Loss 0.2262\n",
      "Time taken for 1 epoch 145.4026563167572 sec\n",
      "\n",
      "Training total score: 0.2074456487474068\n",
      "Validation total score: 0.3450893115612768\n",
      "Total duration: 4.477317643165589 min\n",
      "\n"
     ]
    },
    {
     "name": "stderr",
     "output_type": "stream",
     "text": [
      "<ipython-input-25-e0d72c9850d0>:3: UserWarning: color is redundantly defined by the 'color' keyword argument and the fmt string \"b\" (-> color=(0.0, 0.0, 1.0, 1)). The keyword argument will take precedence.\n",
      "  plt.plot(epochs, loss_tr_values, 'b', label='Training Loss', c='r')\n",
      "<ipython-input-25-e0d72c9850d0>:4: UserWarning: color is redundantly defined by the 'color' keyword argument and the fmt string \"b\" (-> color=(0.0, 0.0, 1.0, 1)). The keyword argument will take precedence.\n",
      "  plt.plot(epochs, loss_vl_values, 'b', label='Validation Loss', c='b')\n"
     ]
    },
    {
     "data": {
      "image/png": "[encoded data removed]",
      "text/plain": [
       "<Figure size 432x288 with 1 Axes>"
      ]
     },
     "metadata": {
      "needs_background": "light"
     },
     "output_type": "display_data"
    }
   ],
   "source": [
    "EPOCHS = 10\n",
    "print( \"le iterazioni totali saranno:\", steps_per_epoch,\"per epoca, in totale:\",(steps_per_epoch*EPOCHS))\n",
    "loss_tr_values = []\n",
    "loss_vl_values = []\n",
    "\n",
    "for epoch in range(EPOCHS):\n",
    "    start = time.time()\n",
    "\n",
    "    enc_hidden = encoder.initialize_hidden_state()\n",
    "    total_loss = 0\n",
    "    conta=0\n",
    "    \n",
    "    for (batch, (inp, targ)) in enumerate(train_dataset.take(steps_per_epoch)):\n",
    "        batch_loss = train_step(inp, targ, enc_hidden)\n",
    "        total_loss += batch_loss\n",
    "        conta+= 1\n",
    "        if batch % 100 == 0:\n",
    "          print('Epoch {}/{} Batch {}/{} Loss {:.4f}'.format(epoch + 1,EPOCHS,\n",
    "                                                       batch,  steps_per_epoch,\n",
    "                                                       batch_loss.numpy()))\n",
    "    # saving (checkpoint) the model every 2 epochs\n",
    "    #if (epoch + 1) % 2 == 0:\n",
    "    #    checkpoint.save(file_prefix = checkpoint_prefix)\n",
    "        \n",
    "    print('Epoch {}/{} Loss {:.4f}'.format(epoch + 1, EPOCHS,\n",
    "                                      total_loss/conta))\n",
    "    print('Time taken for 1 epoch {} sec\\n'.format(time.time() - start))\n",
    "\n",
    "    #Compute LOSS training\n",
    "    ls=validation_score(enc_hidden,train_dataset)\n",
    "    loss_tr_values.append(ls)\n",
    "    print('Training total score:',ls)\n",
    "    \n",
    "    #Compute LOSS validation\n",
    "    vs=validation_score(enc_hidden,val_dataset)\n",
    "    loss_vl_values.append(vs)\n",
    "    print('Validation total score:',vs)\n",
    "\n",
    "    \n",
    "    print('Total duration: {} min\\n'.format((time.time() - start)/60.0))\n",
    "\n",
    "make_graph(loss_tr_values,loss_vl_values)\n"
   ]
  },
  {
   "cell_type": "code",
   "execution_count": 27,
   "metadata": {},
   "outputs": [
    {
     "name": "stderr",
     "output_type": "stream",
     "text": [
      "<ipython-input-25-e0d72c9850d0>:3: UserWarning: color is redundantly defined by the 'color' keyword argument and the fmt string \"b\" (-> color=(0.0, 0.0, 1.0, 1)). The keyword argument will take precedence.\n",
      "  plt.plot(epochs, loss_tr_values, 'b', label='Training Loss', c='r')\n",
      "<ipython-input-25-e0d72c9850d0>:4: UserWarning: color is redundantly defined by the 'color' keyword argument and the fmt string \"b\" (-> color=(0.0, 0.0, 1.0, 1)). The keyword argument will take precedence.\n",
      "  plt.plot(epochs, loss_vl_values, 'b', label='Validation Loss', c='b')\n"
     ]
    },
    {
     "data": {
      "image/png": "[encoded data removed]",
      "text/plain": [
       "<Figure size 432x288 with 1 Axes>"
      ]
     },
     "metadata": {
      "needs_background": "light"
     },
     "output_type": "display_data"
    }
   ],
   "source": [
    "make_graph(loss_tr_values,loss_vl_values)"
   ]
  },
  {
   "cell_type": "markdown",
   "metadata": {},
   "source": [
    "### Save the model or restore previous"
   ]
  },
  {
   "cell_type": "code",
   "execution_count": 28,
   "metadata": {},
   "outputs": [
    {
     "data": {
      "text/plain": [
       "'./training_checkpoints\\\\ckpt-1'"
      ]
     },
     "execution_count": 28,
     "metadata": {},
     "output_type": "execute_result"
    }
   ],
   "source": [
    "#save model on checkpoint\n",
    "checkpoint.save(file_prefix = checkpoint_prefix)\n",
    "\n",
    "# restoring the latest checkpoint in checkpoint_dir\n",
    "#checkpoint.restore(tf.train.latest_checkpoint(checkpoint_dir))"
   ]
  },
  {
   "cell_type": "markdown",
   "metadata": {},
   "source": [
    "# Test"
   ]
  },
  {
   "cell_type": "code",
   "execution_count": 29,
   "metadata": {
    "colab": {
     "background_save": true
    },
    "id": "m77oLnWmz9st"
   },
   "outputs": [],
   "source": [
    "def evaluate_sentence(sentence):\n",
    "  sentence = dataset_creator.preprocess_sentence(sentence)\n",
    "\n",
    "  inputs = [inp_lang.word_index[i] for i in sentence.split(' ')]\n",
    "  inputs = tf.keras.preprocessing.sequence.pad_sequences([inputs],\n",
    "                                                          maxlen=max_length_input,\n",
    "                                                          padding='post')\n",
    "  inputs = tf.convert_to_tensor(inputs)\n",
    "  inference_batch_size = inputs.shape[0]\n",
    "  result = ''\n",
    "\n",
    "  enc_start_state = [tf.zeros((inference_batch_size, units)), tf.zeros((inference_batch_size,units))]\n",
    "  enc_out, enc_h, enc_c = encoder(inputs, enc_start_state)\n",
    "\n",
    "  dec_h = enc_h\n",
    "  dec_c = enc_c\n",
    "\n",
    "  start_tokens = tf.fill([inference_batch_size], targ_lang.word_index['<start>'])\n",
    "  end_token = targ_lang.word_index['<end>']\n",
    "\n",
    "  greedy_sampler = tfa.seq2seq.GreedyEmbeddingSampler()\n",
    "\n",
    "  # Instantiate BasicDecoder object\n",
    "  decoder_instance = tfa.seq2seq.BasicDecoder(cell=decoder.decoder_rnn_cell, sampler=greedy_sampler, output_layer=decoder.fc)\n",
    "\n",
    "  ### Since the BasicDecoder wraps around Decoder's rnn cell only, you have to ensure that the inputs to BasicDecoder \n",
    "  ### decoding step is output of embedding layer. tfa.seq2seq.GreedyEmbeddingSampler() takes care of this. \n",
    "  ### You only need to get the weights of embedding layer, which can be done by decoder.embedding.variables[0] and pass this callabble to BasicDecoder's call() function\n",
    "\n",
    "  decoder_embedding_matrix = decoder.embedding.variables[0]\n",
    "\n",
    "  outputs, _, _ = decoder_instance(decoder_embedding_matrix, start_tokens = start_tokens, end_token= end_token, initial_state= [enc_h, enc_c])\n",
    "  return outputs.sample_id.numpy()\n",
    "\n",
    "def translate(sentence):\n",
    "  result = evaluate_sentence(sentence)\n",
    "  print(result)\n",
    "  result = targ_lang.sequences_to_texts(result)\n",
    "  print('Input: %s' % (sentence))\n",
    "  print('Predicted translation: {}'.format(result))"
   ]
  },
  {
   "cell_type": "markdown",
   "metadata": {},
   "source": [
    "#### compute Bleu and F1 score"
   ]
  },
  {
   "cell_type": "code",
   "execution_count": 30,
   "metadata": {},
   "outputs": [
    {
     "name": "stdout",
     "output_type": "stream",
     "text": [
      "f1: 54.55 % \tbleu: 42.86 %\n"
     ]
    }
   ],
   "source": [
    "from rouge import Rouge\n",
    "from nltk.translate.bleu_score import sentence_bleu\n",
    "\n",
    "#f1 score, BLEU score\n",
    "def valutazioni(reference, candidate):\n",
    "    rouge = Rouge()\n",
    "    reference=reference[:-6]\n",
    "    candidate=candidate[:-6]\n",
    "   \n",
    "    f1_score = round(rouge.get_scores(reference, candidate,avg=True)['rouge-1']['f']*100,2)\n",
    "    bleu_score = round(sentence_bleu([reference.split()], candidate.split(),weights=[1])*100,2)\n",
    "    \n",
    "    #print(\"reference:\",reference,\"candidate:\",candidate,\"bleu:\",bleu_score)\n",
    "    return f1_score,bleu_score\n",
    "\n",
    "\n",
    "frase_input = 'who said you phone ? <end>'\n",
    "frase_target = 'who did you say telephoned you ? <end>'\n",
    "f1,bleu=valutazioni(frase_input,frase_target)\n",
    "\n",
    "print(\"f1:\",f1,\"%\",\"\\tbleu:\",bleu,\"%\")"
   ]
  },
  {
   "cell_type": "code",
   "execution_count": 31,
   "metadata": {},
   "outputs": [],
   "source": [
    "def test(frase_input,frase_target):\n",
    "    frase_tradotta = targ_lang.sequences_to_texts(evaluate_sentence(frase_input))[0]\n",
    "    f1,bleu=valutazioni(frase_tradotta,frase_target)\n",
    "    return f1,bleu\n"
   ]
  },
  {
   "cell_type": "markdown",
   "metadata": {},
   "source": [
    "## Result on Test phase"
   ]
  },
  {
   "cell_type": "code",
   "execution_count": 32,
   "metadata": {},
   "outputs": [],
   "source": [
    "test_targ=test_dataset[0]\n",
    "test_inpu=test_dataset[1]\n",
    "\n",
    "frase_targ=[]\n",
    "frase_input=[]\n",
    "\n",
    "\n",
    "for i in test_targ:\n",
    "    i=i[8:]   #remove <start>\n",
    "    frase_targ.append(i)\n",
    "    \n",
    "for i in test_inpu:\n",
    "    i=i[8:]\n",
    "    i=i[:-6]\n",
    "    frase_input.append(i)"
   ]
  },
  {
   "cell_type": "code",
   "execution_count": 33,
   "metadata": {},
   "outputs": [
    {
     "name": "stdout",
     "output_type": "stream",
     "text": [
      "do you think tom will forgive me ? <end>\n",
      "lei pensa che tom mi perdonera ?\n"
     ]
    }
   ],
   "source": [
    "print(frase_targ[1])\n",
    "print(frase_input[1])"
   ]
  },
  {
   "cell_type": "code",
   "execution_count": 34,
   "metadata": {},
   "outputs": [
    {
     "name": "stdout",
     "output_type": "stream",
     "text": [
      "6000\n"
     ]
    }
   ],
   "source": [
    "conta=0\n",
    "sum_f1=0\n",
    "sum_bleu=0\n",
    "print(len(frase_input))\n",
    "for i in range(0,500):\n",
    "    conta+=1\n",
    "    \n",
    "    try:\n",
    "        f1,bleu=test(frase_input[i],frase_targ[i])\n",
    "        sum_f1=sum_f1+f1\n",
    "        sum_bleu=sum_bleu+bleu\n",
    "    except:\n",
    "        conta-=1"
   ]
  },
  {
   "cell_type": "code",
   "execution_count": 35,
   "metadata": {},
   "outputs": [
    {
     "name": "stdout",
     "output_type": "stream",
     "text": [
      "CASI DI TEST TOTALI ANALIZZATI:  420 / 6000\n",
      "F1: 8.99\n",
      "BLEU: 14.87\n"
     ]
    }
   ],
   "source": [
    "total_sum_f1=sum_f1/conta\n",
    "total_sum_bleu=sum_bleu/conta\n",
    "\n",
    "print(\"CASI DI TEST TOTALI ANALIZZATI: \", conta , \"/\", len(frase_input))\n",
    "print(\"F1: {0:.2f}\".format( total_sum_f1) )\n",
    "print(\"BLEU: {0:.2f}\".format(total_sum_bleu) )"
   ]
  },
  {
   "cell_type": "markdown",
   "metadata": {},
   "source": [
    "# Simple command Interface for direct translation"
   ]
  },
  {
   "cell_type": "code",
   "execution_count": null,
   "metadata": {},
   "outputs": [],
   "source": [
    "text_it = None\n",
    "\n",
    "while text_it != \"exit\":\n",
    "   \n",
    "    text_it = input(\"Italiano: \")\n",
    "    try:\n",
    "        text_en = targ_lang.sequences_to_texts(evaluate_sentence(text_it))\n",
    "    except:\n",
    "        if(text_it!='exit'):\n",
    "            print(\"la parola non esiste nel mio vocabolario, riprova con un altra frase (per terminare digita exit) \")\n",
    "        continue\n",
    "\n",
    "    print('English: {}'.format(text_en)[:-7])\n"
   ]
  },
  {
   "cell_type": "markdown",
   "metadata": {},
   "source": [
    "# BeamSearch "
   ]
  },
  {
   "cell_type": "code",
   "execution_count": 57,
   "metadata": {
    "colab": {
     "background_save": true
    },
    "id": "NkD_NO4P0IEQ"
   },
   "outputs": [],
   "source": [
    "def beam_evaluate_sentence(sentence, beam_width=3):\n",
    "  sentence = dataset_creator.preprocess_sentence(sentence)\n",
    "\n",
    "  inputs = [inp_lang.word_index[i] for i in sentence.split(' ')]\n",
    "  inputs = tf.keras.preprocessing.sequence.pad_sequences([inputs],\n",
    "                                                          maxlen=max_length_input,\n",
    "                                                          padding='post')\n",
    "  inputs = tf.convert_to_tensor(inputs)\n",
    "  inference_batch_size = inputs.shape[0]\n",
    "  result = ''\n",
    "\n",
    "  enc_start_state = [tf.zeros((inference_batch_size, units)), tf.zeros((inference_batch_size,units))]\n",
    "  enc_out, enc_h, enc_c = encoder(inputs, enc_start_state)\n",
    "\n",
    "  dec_h = enc_h\n",
    "  dec_c = enc_c\n",
    "\n",
    "  start_tokens = tf.fill([inference_batch_size], targ_lang.word_index['<start>'])\n",
    "  end_token = targ_lang.word_index['<end>']\n",
    "\n",
    "  # From official documentation\n",
    "  # NOTE If you are using the BeamSearchDecoder with a cell wrapped in AttentionWrapper, then you must ensure that:\n",
    "  # The encoder output has been tiled to beam_width via tfa.seq2seq.tile_batch (NOT tf.tile).\n",
    "  # The batch_size argument passed to the get_initial_state method of this wrapper is equal to true_batch_size * beam_width.\n",
    "  # The initial state created with get_initial_state above contains a cell_state value containing properly tiled final state from the encoder.\n",
    "\n",
    "  enc_out = tfa.seq2seq.tile_batch(enc_out, multiplier=beam_width)\n",
    "  #decoder.attention_mechanism.setup_memory(enc_out)\n",
    "  print(\"beam_with * [batch_size, max_length_input, rnn_units] :  3 * [1, 16, 1024]] :\", enc_out.shape)\n",
    "\n",
    "  # set decoder_inital_state which is an AttentionWrapperState considering beam_width\n",
    "  hidden_state = tfa.seq2seq.tile_batch([enc_h, enc_c], multiplier=beam_width)\n",
    "  decoder_initial_state = decoder.decoder_rnn_cell.get_initial_state(batch_size=beam_width*inference_batch_size, dtype=tf.float32)\n",
    "\n",
    "  # Instantiate BeamSearchDecoder\n",
    "  decoder_instance = tfa.seq2seq.BeamSearchDecoder(decoder.decoder_rnn_cell,beam_width=beam_width, output_layer=decoder.fc)\n",
    "  decoder_embedding_matrix = decoder.embedding.variables[0]\n",
    "\n",
    "  # The BeamSearchDecoder object's call() function takes care of everything.\n",
    "  outputs, final_state, sequence_lengths = decoder_instance(decoder_embedding_matrix, start_tokens=start_tokens, end_token=end_token, initial_state=decoder_initial_state)\n",
    "  # outputs is tfa.seq2seq.FinalBeamSearchDecoderOutput object. \n",
    "  # The final beam predictions are stored in outputs.predicted_id\n",
    "  # outputs.beam_search_decoder_output is a tfa.seq2seq.BeamSearchDecoderOutput object which keep tracks of beam_scores and parent_ids while performing a beam decoding step\n",
    "  # final_state = tfa.seq2seq.BeamSearchDecoderState object.\n",
    "  # Sequence Length = [inference_batch_size, beam_width] details the maximum length of the beams that are generated\n",
    "\n",
    "\n",
    "  # outputs.predicted_id.shape = (inference_batch_size, time_step_outputs, beam_width)\n",
    "  # outputs.beam_search_decoder_output.scores.shape = (inference_batch_size, time_step_outputs, beam_width)\n",
    "  # Convert the shape of outputs and beam_scores to (inference_batch_size, beam_width, time_step_outputs)\n",
    "  final_outputs = tf.transpose(outputs.predicted_ids, perm=(0,2,1))\n",
    "  beam_scores = tf.transpose(outputs.beam_search_decoder_output.scores, perm=(0,2,1))\n",
    "\n",
    "  return final_outputs.numpy(), beam_scores.numpy()"
   ]
  },
  {
   "cell_type": "code",
   "execution_count": 58,
   "metadata": {
    "colab": {
     "background_save": true
    },
    "id": "niwJAvFG0JKp"
   },
   "outputs": [],
   "source": [
    "def beam_translate(sentence):\n",
    "  result, beam_scores = beam_evaluate_sentence(sentence)\n",
    "  print(result.shape, beam_scores.shape)\n",
    "  for beam, score in zip(result, beam_scores):\n",
    "    print(beam.shape, score.shape)\n",
    "    output = targ_lang.sequences_to_texts(beam)\n",
    "    output = [a[:a.index('<end>')] for a in output]\n",
    "    beam_score = [a.sum() for a in score]\n",
    "    print('Input: %s' % (sentence))\n",
    "    for i in range(len(output)):\n",
    "      print('{} Predicted translation: {}  {}'.format(i+1, output[i], beam_score[i]))"
   ]
  },
  {
   "cell_type": "code",
   "execution_count": 59,
   "metadata": {},
   "outputs": [],
   "source": [
    "def beam_translate_only(sentence):\n",
    "    result, beam_scores = beam_evaluate_sentence(sentence)\n",
    "\n",
    "    for beam, score in zip(result, beam_scores):\n",
    "        output = targ_lang.sequences_to_texts(beam)\n",
    "        output = [a[:a.index('<end>')] for a in output]\n",
    "        beam_score = [a.sum() for a in score]\n",
    "    return output"
   ]
  },
  {
   "cell_type": "markdown",
   "metadata": {},
   "source": [
    "## Some example with beam search"
   ]
  },
  {
   "cell_type": "code",
   "execution_count": 60,
   "metadata": {
    "colab": {
     "background_save": true
    },
    "id": "tCuHL20_0Lt0"
   },
   "outputs": [
    {
     "name": "stdout",
     "output_type": "stream",
     "text": [
      "beam_with * [batch_size, max_length_input, rnn_units] :  3 * [1, 16, 1024]] : (3, 79, 1024)\n",
      "(1, 3, 8) (1, 3, 8)\n",
      "(3, 8) (3, 8)\n",
      "Input: sono felice \n",
      "1 Predicted translation: do that ?   -73.75390625\n",
      "2 Predicted translation: have to do that .   -82.58644104003906\n",
      "3 Predicted translation: do not to be contributing non .   -92.26895904541016\n"
     ]
    }
   ],
   "source": [
    "beam_translate('sono felice ')"
   ]
  },
  {
   "cell_type": "code",
   "execution_count": 61,
   "metadata": {
    "colab": {
     "background_save": true
    },
    "id": "Jbusc-HTByo9"
   },
   "outputs": [
    {
     "name": "stdout",
     "output_type": "stream",
     "text": [
      "beam_with * [batch_size, max_length_input, rnn_units] :  3 * [1, 16, 1024]] : (3, 79, 1024)\n",
      "(1, 3, 8) (1, 3, 8)\n",
      "(3, 8) (3, 8)\n",
      "Input: ho fame\n",
      "1 Predicted translation: do that ?   -73.75390625\n",
      "2 Predicted translation: have to do that .   -82.58644104003906\n",
      "3 Predicted translation: do not to be contributing non .   -92.26895904541016\n"
     ]
    }
   ],
   "source": [
    "beam_translate('ho fame')"
   ]
  },
  {
   "cell_type": "code",
   "execution_count": 62,
   "metadata": {
    "colab": {
     "background_save": true
    },
    "id": "LPuZl3jKjmcn"
   },
   "outputs": [
    {
     "name": "stdout",
     "output_type": "stream",
     "text": [
      "beam_with * [batch_size, max_length_input, rnn_units] :  3 * [1, 16, 1024]] : (3, 79, 1024)\n",
      "(1, 3, 8) (1, 3, 8)\n",
      "(3, 8) (3, 8)\n",
      "Input: oggi sono andato a scuola\n",
      "1 Predicted translation: do that ?   -73.75390625\n",
      "2 Predicted translation: have to do that .   -82.58644104003906\n",
      "3 Predicted translation: do not to be contributing non .   -92.26895904541016\n"
     ]
    }
   ],
   "source": [
    "beam_translate('oggi sono andato a scuola')"
   ]
  },
  {
   "cell_type": "code",
   "execution_count": null,
   "metadata": {},
   "outputs": [],
   "source": []
  }
 ],
 "metadata": {
  "colab": {
   "collapsed_sections": [],
   "name": "Seq2Seq.ipynb",
   "provenance": []
  },
  "kernelspec": {
   "display_name": "Python 3",
   "language": "python",
   "name": "python3"
  },
  "language_info": {
   "codemirror_mode": {
    "name": "ipython",
    "version": 3
   },
   "file_extension": ".py",
   "mimetype": "text/x-python",
   "name": "python",
   "nbconvert_exporter": "python",
   "pygments_lexer": "ipython3",
   "version": "3.8.3"
  }
 },
 "nbformat": 4,
 "nbformat_minor": 4
}
