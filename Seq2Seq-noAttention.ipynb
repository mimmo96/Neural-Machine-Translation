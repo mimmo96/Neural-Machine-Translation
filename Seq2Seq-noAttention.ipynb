{
 "cells": [
  {
   "cell_type": "code",
   "execution_count": 1,
   "metadata": {
    "id": "wx-rFptCj3bF"
   },
   "outputs": [],
   "source": [
    "import tensorflow as tf\n",
    "import tensorflow_addons as tfa\n",
    "\n",
    "import matplotlib.pyplot as plt\n",
    "import matplotlib.ticker as ticker\n",
    "from sklearn.model_selection import train_test_split\n",
    "\n",
    "import random\n",
    "import unicodedata\n",
    "import re\n",
    "import numpy as np\n",
    "import os\n",
    "import io\n",
    "import time"
   ]
  },
  {
   "cell_type": "code",
   "execution_count": 2,
   "metadata": {
    "id": "Lc8QcYwvzmw-"
   },
   "outputs": [],
   "source": [
    "class NMTDataset:\n",
    "    def __init__(self, problem_type='it-en'):\n",
    "        self.problem_type = 'it-en'\n",
    "        self.inp_lang_tokenizer = None\n",
    "        self.targ_lang_tokenizer = None\n",
    "        \n",
    "    \n",
    "    def shuffle_all(self,path_input,path_output):\n",
    "        lines = open(path_input, encoding='UTF-8').readlines()\n",
    "        random.shuffle(lines)\n",
    "        open(path_output, 'w' , encoding=\"utf-8\").writelines(lines)\n",
    "\n",
    "\n",
    "    def unicode_to_ascii(self, s):\n",
    "        return ''.join(c for c in unicodedata.normalize('NFD', s) if unicodedata.category(c) != 'Mn')\n",
    "\n",
    "    ## Step 1 and Step 2 \n",
    "    def preprocess_sentence(self, w):\n",
    "        w = self.unicode_to_ascii(w.lower().strip())\n",
    "\n",
    "        # creating a space between a word and the punctuation following it\n",
    "        # eg: \"he is a boy.\" => \"he is a boy .\"\n",
    "        # Reference:- https://stackoverflow.com/questions/3645931/python-padding-punctuation-with-white-spaces-keeping-punctuation\n",
    "        w = re.sub(r\"([?.!,])\", r\" \\1 \", w)\n",
    "        w = re.sub(r'[\" \"]+', \" \", w)\n",
    "        \n",
    "        #----------------------------------provare a togliere anche i caratteri di punteggiatura--------------------------\n",
    "        # replacing everything with space except (a-z, A-Z, \".\", \"?\", \"!\", \",\")\n",
    "        w = re.sub(r\"[^a-zA-Z?.!,]+\", \" \", w)\n",
    "\n",
    "        w = w.strip()\n",
    "\n",
    "        # adding a start and an end token to the sentence\n",
    "        # so that the model know when to start and stop predicting.\n",
    "        w = '<start> ' + w + ' <end>'\n",
    "        return w\n",
    "\n",
    "    def create_dataset(self, path, num_examples):\n",
    "        # path : path to ita-eng.txt file\n",
    "        # num_examples : Limit the total number of training example for faster training (set num_examples = len(lines) to use full data)\n",
    "        #self.shuffle_all('it.txt','new.txt')\n",
    "        lines = io.open(path, encoding='UTF-8').read().strip().split('\\n')\n",
    "        #num_examples = len(lines) \n",
    "        word_pairs = [[self.preprocess_sentence(w) for w in l.split('\\t')]  for l in lines[:num_examples]]\n",
    "\n",
    "        return zip(*word_pairs)\n",
    "\n",
    "    # Step 3 and Step 4\n",
    "    def tokenize(self, lang):\n",
    "        # lang = list of sentences in a language\n",
    "\n",
    "        # print(len(lang), \"example sentence: {}\".format(lang[0]))\n",
    "        lang_tokenizer = tf.keras.preprocessing.text.Tokenizer(filters='', oov_token='<OOV>')\n",
    "        lang_tokenizer.fit_on_texts(lang)\n",
    "\n",
    "        ## tf.keras.preprocessing.text.Tokenizer.texts_to_sequences converts string (w1, w2, w3, ......, wn) \n",
    "        ## to a list of correspoding integer ids of words (id_w1, id_w2, id_w3, ...., id_wn)\n",
    "        tensor = lang_tokenizer.texts_to_sequences(lang) \n",
    "\n",
    "        ## tf.keras.preprocessing.sequence.pad_sequences takes argument a list of integer id sequences \n",
    "        ## and pads the sequences to match the longest sequences in the given input\n",
    "        tensor = tf.keras.preprocessing.sequence.pad_sequences(tensor, padding='post')\n",
    "\n",
    "        return tensor, lang_tokenizer\n",
    "\n",
    "    def load_dataset(self, path, num_examples=None):\n",
    "        # creating cleaned input, output pairs\n",
    "        targ_lang, inp_lang = self.create_dataset(path, num_examples)\n",
    "        \n",
    "        train_targ, test_targ, train_inp, test_inp = train_test_split(targ_lang, inp_lang, test_size=0.2, shuffle = True, random_state = 8)\n",
    "\n",
    "        input_tensor, inp_lang_tokenizer = self.tokenize(train_inp)\n",
    "        target_tensor, targ_lang_tokenizer = self.tokenize(train_targ)\n",
    "\n",
    "        return input_tensor, target_tensor, inp_lang_tokenizer, targ_lang_tokenizer,test_targ,test_inp\n",
    "\n",
    "    def call(self, num_examples, BUFFER_SIZE, BATCH_SIZE):\n",
    "        file_path = 'new.txt'\n",
    "        input_tensor, target_tensor, self.inp_lang_tokenizer, self.targ_lang_tokenizer,test_targ,test_inp = self.load_dataset(file_path, num_examples)\n",
    "        \n",
    "        input_tensor_test, inp_lang_tokenizer = self.tokenize(test_inp)\n",
    "        target_tensor_test, targ_lang_tokenizer = self.tokenize(test_targ)\n",
    "\n",
    "        test_dataset = [test_targ, test_inp]\n",
    "        \n",
    "        # Use the same function above for the validation set\n",
    "        train_x, X_val, train_y, y_val = train_test_split(input_tensor, target_tensor, test_size=0.25) # 0.25 x 0.8 = 0.2\n",
    "\n",
    "        train_dataset = tf.data.Dataset.from_tensor_slices((train_x, train_y))\n",
    "        train_dataset = train_dataset.shuffle(BUFFER_SIZE).batch(BATCH_SIZE, drop_remainder=True)\n",
    "\n",
    "        val_dataset = tf.data.Dataset.from_tensor_slices((X_val, y_val))\n",
    "        val_dataset = val_dataset.batch(BATCH_SIZE, drop_remainder=True)\n",
    "        \n",
    "        test_data = tf.data.Dataset.from_tensor_slices((input_tensor_test, target_tensor_test))\n",
    "        test_data = test_data.batch(BATCH_SIZE, drop_remainder=True)\n",
    "\n",
    "        return train_dataset, val_dataset, test_dataset, test_data, self.inp_lang_tokenizer, self.targ_lang_tokenizer"
   ]
  },
  {
   "cell_type": "markdown",
   "metadata": {},
   "source": [
    "### Stampiamo alcune funzioni della classe"
   ]
  },
  {
   "cell_type": "code",
   "execution_count": 3,
   "metadata": {},
   "outputs": [],
   "source": [
    "dataset_creator = NMTDataset('it-en')"
   ]
  },
  {
   "cell_type": "markdown",
   "metadata": {},
   "source": [
    "#### preprocess_sentence"
   ]
  },
  {
   "cell_type": "code",
   "execution_count": 4,
   "metadata": {},
   "outputs": [
    {
     "name": "stdout",
     "output_type": "stream",
     "text": [
      "<start> prova di preprocessing . <end>\n"
     ]
    }
   ],
   "source": [
    "tot= dataset_creator.preprocess_sentence(\"prova di preprocessing .\")\n",
    "print(tot)"
   ]
  },
  {
   "cell_type": "markdown",
   "metadata": {},
   "source": [
    "#### create_dataset"
   ]
  },
  {
   "cell_type": "code",
   "execution_count": 5,
   "metadata": {},
   "outputs": [
    {
     "name": "stdout",
     "output_type": "stream",
     "text": [
      "<start> hi . <end>\n",
      "<start> ciao ! <end>\n"
     ]
    }
   ],
   "source": [
    "frase_input,frase_output=dataset_creator.create_dataset('ita.txt',50)\n",
    "print(frase_input[0])\n",
    "print(frase_output[0])"
   ]
  },
  {
   "cell_type": "markdown",
   "metadata": {},
   "source": [
    "#### load_dataset"
   ]
  },
  {
   "cell_type": "code",
   "execution_count": 6,
   "metadata": {},
   "outputs": [
    {
     "name": "stdout",
     "output_type": "stream",
     "text": [
      "[[2 3 5 4]\n",
      " [2 3 6 4]]\n",
      "[[2 3 4 5]\n",
      " [2 3 4 5]]\n",
      "{'<OOV>': 1, '<start>': 2, 'ciao': 3, '<end>': 4, '.': 5, '!': 6}\n",
      "{'<OOV>': 1, '<start>': 2, 'hi': 3, '.': 4, '<end>': 5}\n",
      "test_targ: ['<start> run ! <end>']\n",
      "test_inp: ['<start> corri ! <end>']\n"
     ]
    }
   ],
   "source": [
    "input_tensor, target_tensor, inp_lang_tokenizer, targ_lang_tokenizer,test_targ,test_inp =dataset_creator.load_dataset('ita.txt',3)\n",
    "print(input_tensor)\n",
    "print(target_tensor)\n",
    "print(inp_lang_tokenizer.word_index)\n",
    "print(targ_lang_tokenizer.word_index)\n",
    "print(\"test_targ:\",test_targ)\n",
    "print(\"test_inp:\",test_inp)"
   ]
  },
  {
   "cell_type": "code",
   "execution_count": 7,
   "metadata": {
    "colab": {
     "base_uri": "https://localhost:8080/"
    },
    "id": "n0cGJA8TSWZ0",
    "outputId": "eef9059b-e12b-41c6-edf7-16b3600aa15b"
   },
   "outputs": [
    {
     "name": "stdout",
     "output_type": "stream",
     "text": [
      "numero di line:  352894\n"
     ]
    }
   ],
   "source": [
    "lines = io.open('new.txt', encoding='UTF-8').read().strip().split('\\n')\n",
    "num_examples = len(lines) \n",
    "print(\"numero di line: \", num_examples)"
   ]
  },
  {
   "cell_type": "code",
   "execution_count": 8,
   "metadata": {
    "id": "J99M-_O0zoFb"
   },
   "outputs": [],
   "source": [
    "BATCH_SIZE = 32\n",
    "\n",
    "num_examples = num_examples\n",
    "\n",
    "BUFFER_SIZE = num_examples \n",
    "#num_examples = 352894\n",
    "\n",
    "#BUFFER_SIZE = 3000\n",
    "\n",
    "#BATCH_SIZE = 64\n",
    "#num_examples = 3000\n",
    "\n",
    "dataset_creator = NMTDataset('it-en')\n",
    "train_dataset, val_dataset, test_dataset, test_data, inp_lang, targ_lang = dataset_creator.call(num_examples, BUFFER_SIZE, BATCH_SIZE)"
   ]
  },
  {
   "cell_type": "code",
   "execution_count": 9,
   "metadata": {
    "id": "n0MxV22Gzphl"
   },
   "outputs": [
    {
     "data": {
      "text/plain": [
       "(TensorShape([32, 104]), TensorShape([32, 112]))"
      ]
     },
     "execution_count": 9,
     "metadata": {},
     "output_type": "execute_result"
    }
   ],
   "source": [
    "example_input_batch, example_target_batch = next(iter(train_dataset))\n",
    "example_input_batch.shape, example_target_batch.shape"
   ]
  },
  {
   "cell_type": "code",
   "execution_count": 10,
   "metadata": {
    "id": "WEAMEDfzzsB7"
   },
   "outputs": [
    {
     "name": "stdout",
     "output_type": "stream",
     "text": [
      "max_length_input 104\n",
      "max_length_output 112\n",
      "steps_per_epoch: 6616\n"
     ]
    }
   ],
   "source": [
    "vocab_inp_size = len(inp_lang.word_index)+1\n",
    "vocab_tar_size = len(targ_lang.word_index)+1\n",
    "max_length_input = example_input_batch.shape[1]\n",
    "max_length_output = example_target_batch.shape[1]\n",
    "\n",
    "print('max_length_input',max_length_input)\n",
    "print('max_length_output',max_length_output)\n",
    "\n",
    "embedding_dim = 512 #512\n",
    "units = 1024 #2048\n",
    "steps_per_epoch = int((((num_examples*80)/100)*75)/100//BATCH_SIZE)\n",
    "print(\"steps_per_epoch:\",steps_per_epoch)"
   ]
  },
  {
   "cell_type": "code",
   "execution_count": 11,
   "metadata": {
    "id": "nJbQgvdHzuTf"
   },
   "outputs": [
    {
     "name": "stdout",
     "output_type": "stream",
     "text": [
      "max_length_english, max_length_italian, vocab_size_english, vocab_size_italian\n"
     ]
    },
    {
     "data": {
      "text/plain": [
       "(104, 112, 24946, 12686)"
      ]
     },
     "execution_count": 11,
     "metadata": {},
     "output_type": "execute_result"
    }
   ],
   "source": [
    "print(\"max_length_english, max_length_italian, vocab_size_english, vocab_size_italian\")\n",
    "max_length_input, max_length_output, vocab_inp_size, vocab_tar_size"
   ]
  },
  {
   "cell_type": "code",
   "execution_count": 12,
   "metadata": {
    "id": "bDRYxjgizwRL"
   },
   "outputs": [],
   "source": [
    "#####\n",
    "\n",
    "class Encoder(tf.keras.Model):\n",
    "  def __init__(self, vocab_size, embedding_dim, enc_units, batch_sz):\n",
    "    super(Encoder, self).__init__()\n",
    "    self.batch_sz = batch_sz\n",
    "    self.enc_units = enc_units\n",
    "                                    #Embedding (input_dim,output_dim)\n",
    "    self.embedding = tf.keras.layers.Embedding(vocab_size, embedding_dim)\n",
    "\n",
    "    ##-------- LSTM layer in Encoder ------- ##\n",
    "    self.lstm_layer = tf.keras.layers.LSTM(self.enc_units,\n",
    "                                   return_sequences=True,\n",
    "                                   return_state=True,\n",
    "                                   recurrent_initializer='glorot_uniform')\n",
    "\n",
    "\n",
    "\n",
    "  def call(self, x, hidden):\n",
    "    x = self.embedding(x)\n",
    "    #h=hidden state\n",
    "    #c=cell state\n",
    "    output, h, c = self.lstm_layer(x, initial_state = hidden)\n",
    "    return output, h, c\n",
    "\n",
    "  def initialize_hidden_state(self):\n",
    "    return [tf.zeros((self.batch_sz, self.enc_units)), tf.zeros((self.batch_sz, self.enc_units))]"
   ]
  },
  {
   "cell_type": "code",
   "execution_count": 13,
   "metadata": {
    "id": "lTh-pLdSzymE"
   },
   "outputs": [
    {
     "name": "stdout",
     "output_type": "stream",
     "text": [
      "Encoder output shape: (batch size, sequence length, units) (32, 104, 1024)\n",
      "Encoder h vecotr shape: (batch size, units) (32, 1024)\n",
      "Encoder c vector shape: (batch size, units) (32, 1024)\n"
     ]
    }
   ],
   "source": [
    "## Test Encoder Stack\n",
    "\n",
    "encoder = Encoder(vocab_inp_size, embedding_dim, units, BATCH_SIZE)\n",
    "\n",
    "# sample input\n",
    "sample_hidden = encoder.initialize_hidden_state()\n",
    "sample_output, sample_h, sample_c = encoder(example_input_batch, sample_hidden)\n",
    "print ('Encoder output shape: (batch size, sequence length, units) {}'.format(sample_output.shape))\n",
    "print ('Encoder h vecotr shape: (batch size, units) {}'.format(sample_h.shape))\n",
    "print ('Encoder c vector shape: (batch size, units) {}'.format(sample_c.shape))"
   ]
  },
  {
   "cell_type": "code",
   "execution_count": 14,
   "metadata": {
    "id": "O45Yz4GKzzx5"
   },
   "outputs": [],
   "source": [
    "class Decoder(tf.keras.Model):\n",
    "  def __init__(self, vocab_size, embedding_dim, dec_units, batch_sz, attention_type='luong'):\n",
    "    super(Decoder, self).__init__()\n",
    "    self.batch_sz = batch_sz\n",
    "    self.dec_units = dec_units\n",
    "    self.attention_type = attention_type\n",
    "\n",
    "    # Embedding Layer\n",
    "    self.embedding = tf.keras.layers.Embedding(vocab_size, embedding_dim)\n",
    "\n",
    "    #Final Dense layer on which softmax will be applied\n",
    "    self.fc = tf.keras.layers.Dense(vocab_size)\n",
    "\n",
    "    # Define the fundamental cell for decoder recurrent structure\n",
    "    self.decoder_rnn_cell = tf.keras.layers.LSTMCell(self.dec_units)\n",
    "\n",
    "    # Sampler\n",
    "    self.sampler = tfa.seq2seq.sampler.TrainingSampler()\n",
    "\n",
    "    # Define the decoder with respect to fundamental rnn cell\n",
    "    self.decoder = tfa.seq2seq.BasicDecoder(self.decoder_rnn_cell, sampler=self.sampler, output_layer=self.fc)\n",
    "\n",
    "  def build_initial_state(self, batch_sz, encoder_state, Dtype):\n",
    "    decoder_initial_state = self.decoder_rnn_cell\n",
    "    decoder_initial_state = decoder_initial_state.clone(cell_state=encoder_state)\n",
    "    return decoder_initial_state\n",
    "\n",
    "\n",
    "  def call(self, inputs, initial_state):\n",
    "    x = self.embedding(inputs)\n",
    "    outputs, _, _ = self.decoder(x, initial_state=initial_state, sequence_length=self.batch_sz*[max_length_output-1])\n",
    "    return outputs"
   ]
  },
  {
   "cell_type": "code",
   "execution_count": 15,
   "metadata": {
    "id": "Wi0FflsHz2FT"
   },
   "outputs": [
    {
     "name": "stdout",
     "output_type": "stream",
     "text": [
      "Decoder Outputs Shape:  (32, 111, 12686)\n"
     ]
    }
   ],
   "source": [
    "# Test decoder stack\n",
    "\n",
    "decoder = Decoder(vocab_tar_size, embedding_dim, units, BATCH_SIZE)\n",
    "sample_x = tf.random.uniform((BATCH_SIZE, max_length_output))\n",
    "#initial_state = decoder.build_initial_state(BATCH_SIZE, [sample_h, sample_c], tf.float32)\n",
    "\n",
    "sample_decoder_outputs = decoder(sample_x,  [sample_h, sample_c])\n",
    "\n",
    "print(\"Decoder Outputs Shape: \", sample_decoder_outputs.rnn_output.shape)"
   ]
  },
  {
   "cell_type": "code",
   "execution_count": 16,
   "metadata": {
    "id": "XSaeVRFqz3h9"
   },
   "outputs": [],
   "source": [
    "optimizer = tf.keras.optimizers.Adam()\n",
    "\n",
    "\n",
    "def loss_function(real, pred):\n",
    "  # real shape = (BATCH_SIZE, max_length_output)\n",
    "  # pred shape = (BATCH_SIZE, max_length_output, tar_vocab_size )\n",
    "  cross_entropy = tf.keras.losses.SparseCategoricalCrossentropy(from_logits=True, reduction='none')\n",
    "  loss = cross_entropy(y_true=real, y_pred=pred)\n",
    "  mask = tf.logical_not(tf.math.equal(real,0))   #output 0 for y=0 else output 1\n",
    "  mask = tf.cast(mask, dtype=loss.dtype)\n",
    "  loss = mask* loss \n",
    "  loss = tf.reduce_mean(loss)\n",
    "  return loss"
   ]
  },
  {
   "cell_type": "code",
   "execution_count": 17,
   "metadata": {},
   "outputs": [
    {
     "name": "stdout",
     "output_type": "stream",
     "text": [
      "Model: \"encoder\"\n",
      "_________________________________________________________________\n",
      " Layer (type)                Output Shape              Param #   \n",
      "=================================================================\n",
      " embedding (Embedding)       multiple                  12772352  \n",
      "                                                                 \n",
      " lstm (LSTM)                 multiple                  6295552   \n",
      "                                                                 \n",
      "=================================================================\n",
      "Total params: 19,067,904\n",
      "Trainable params: 19,067,904\n",
      "Non-trainable params: 0\n",
      "_________________________________________________________________\n"
     ]
    }
   ],
   "source": [
    "encoder.summary()"
   ]
  },
  {
   "cell_type": "code",
   "execution_count": 18,
   "metadata": {},
   "outputs": [
    {
     "name": "stdout",
     "output_type": "stream",
     "text": [
      "Model: \"decoder\"\n",
      "_________________________________________________________________\n",
      " Layer (type)                Output Shape              Param #   \n",
      "=================================================================\n",
      " embedding_1 (Embedding)     multiple                  6495232   \n",
      "                                                                 \n",
      " dense (Dense)               multiple                  13003150  \n",
      "                                                                 \n",
      " lstm_cell_1 (LSTMCell)      multiple                  6295552   \n",
      "                                                                 \n",
      " basic_decoder (BasicDecoder  multiple                 19298702  \n",
      " )                                                               \n",
      "                                                                 \n",
      "=================================================================\n",
      "Total params: 25,793,934\n",
      "Trainable params: 25,793,934\n",
      "Non-trainable params: 0\n",
      "_________________________________________________________________\n"
     ]
    }
   ],
   "source": [
    "decoder.summary()"
   ]
  },
  {
   "cell_type": "code",
   "execution_count": 19,
   "metadata": {
    "id": "QHrJNLQjz48B"
   },
   "outputs": [],
   "source": [
    "checkpoint_dir = './training_checkpoints'"
   ]
  },
  {
   "cell_type": "code",
   "execution_count": 20,
   "metadata": {},
   "outputs": [],
   "source": [
    "checkpoint_prefix = os.path.join(checkpoint_dir, \"ckpt\")\n",
    "checkpoint = tf.train.Checkpoint(optimizer=optimizer,\n",
    "                                 encoder=encoder,\n",
    "                                 decoder=decoder)"
   ]
  },
  {
   "cell_type": "code",
   "execution_count": 21,
   "metadata": {
    "id": "EgKFTYEyz6zL"
   },
   "outputs": [],
   "source": [
    "@tf.function\n",
    "def train_step(inp, targ, enc_hidden):\n",
    "  loss = 0\n",
    "\n",
    "  with tf.GradientTape() as tape:\n",
    "    enc_output, enc_h, enc_c = encoder(inp, enc_hidden)\n",
    "\n",
    "\n",
    "    dec_input = targ[ : , :-1 ] # Ignore <end> token\n",
    "    real = targ[ : , 1: ]         # ignore <start> token\n",
    "\n",
    "    # Create AttentionWrapperState as initial_state for decoder\n",
    "    #decoder_initial_state = decoder.build_initial_state(BATCH_SIZE, [enc_h, enc_c], tf.float32)\n",
    "    pred = decoder(dec_input, [enc_h, enc_c])\n",
    "    logits = pred.rnn_output\n",
    "    loss = loss_function(real, logits)\n",
    "\n",
    "  variables = encoder.trainable_variables + decoder.trainable_variables\n",
    "  gradients = tape.gradient(loss, variables)\n",
    "  optimizer.apply_gradients(zip(gradients, variables))\n",
    "\n",
    "  return loss"
   ]
  },
  {
   "cell_type": "code",
   "execution_count": 22,
   "metadata": {
    "id": "hsO4u2zDS4VZ"
   },
   "outputs": [
    {
     "name": "stdout",
     "output_type": "stream",
     "text": [
      "ogni epoca duerà: 11027\n"
     ]
    }
   ],
   "source": [
    "#steps_per_epoch = num_examples//BATCH_SIZE\n",
    "\n",
    "print(\"ogni epoca duerà:\", num_examples//BATCH_SIZE)"
   ]
  },
  {
   "cell_type": "code",
   "execution_count": 23,
   "metadata": {
    "id": "Q7Yiwd1jWaUa"
   },
   "outputs": [],
   "source": [
    "def loss(inp, targ, enc_hidden):\n",
    "  loss = 0\n",
    "  enc_output, enc_h, enc_c = encoder(inp, enc_hidden)\n",
    "\n",
    "  dec_input = targ[ : , :-1 ] # Ignore <end> token\n",
    "  real = targ[ : , 1: ]         # ignore <start> token\n",
    "\n",
    "  # Create AttentionWrapperState as initial_state for decoder\n",
    "  #decoder_initial_state = decoder.build_initial_state(BATCH_SIZE, [enc_h, enc_c], tf.float32)\n",
    "  pred = decoder(dec_input, [enc_h, enc_c])\n",
    "  logits = pred.rnn_output\n",
    "  loss = loss_function(real, logits)\n",
    "  return loss.numpy()"
   ]
  },
  {
   "cell_type": "code",
   "execution_count": 24,
   "metadata": {
    "id": "MW1VFIehpe-r"
   },
   "outputs": [],
   "source": [
    "def validation_score(enc_hidden,dataset):\n",
    "    total_loss=0\n",
    "    conta=0\n",
    "    for (batch, (inp, targ)) in enumerate(dataset.take(steps_per_epoch)):\n",
    "        batch_loss_val = loss(inp, targ, enc_hidden)\n",
    "        total_loss += batch_loss_val\n",
    "        conta +=1\n",
    "    total_loss=total_loss/conta\n",
    "    return total_loss"
   ]
  },
  {
   "cell_type": "code",
   "execution_count": 25,
   "metadata": {
    "id": "VH399lXXVNJR"
   },
   "outputs": [
    {
     "name": "stdout",
     "output_type": "stream",
     "text": [
      "<TakeDataset shapes: ((32, 104), (32, 112)), types: (tf.int32, tf.int32)>\n"
     ]
    }
   ],
   "source": [
    "print(val_dataset.take(steps_per_epoch))"
   ]
  },
  {
   "cell_type": "code",
   "execution_count": 26,
   "metadata": {
    "id": "299lvVPl5yQ4"
   },
   "outputs": [],
   "source": [
    "def make_graph(loss_tr_values,loss_vl_values):\n",
    "  epochs = range(1, len(loss_vl_values)+1)\n",
    "  plt.plot(epochs, loss_tr_values, 'b', label='Training Loss', c='r')\n",
    "  plt.plot(epochs, loss_vl_values, 'b', label='Validation Loss', c='b')\n",
    "  plt.title('Training and validation Loss')\n",
    "  plt.xlabel('Epochs')\n",
    "  plt.ylabel('Loss')\n",
    "  plt.legend()\n",
    "  plt.show()"
   ]
  },
  {
   "cell_type": "code",
   "execution_count": 27,
   "metadata": {
    "colab": {
     "background_save": true
    },
    "id": "sC4HuzCEz8HN",
    "outputId": "9facfc62-642f-4903-fbac-614906c5413a"
   },
   "outputs": [
    {
     "name": "stdout",
     "output_type": "stream",
     "text": [
      "le iterazioni totali saranno: 6616 per epoca, in totale: 66160\n",
      "Epoch 1/10 Batch 0/6616 Loss 0.6651\n",
      "Epoch 1/10 Batch 100/6616 Loss 0.3220\n",
      "Epoch 1/10 Batch 200/6616 Loss 0.3051\n",
      "Epoch 1/10 Batch 300/6616 Loss 0.3286\n",
      "Epoch 1/10 Batch 400/6616 Loss 0.2447\n",
      "Epoch 1/10 Batch 500/6616 Loss 0.3061\n",
      "Epoch 1/10 Batch 600/6616 Loss 0.2892\n",
      "Epoch 1/10 Batch 700/6616 Loss 0.2836\n",
      "Epoch 1/10 Batch 800/6616 Loss 0.2928\n",
      "Epoch 1/10 Batch 900/6616 Loss 0.2354\n",
      "Epoch 1/10 Batch 1000/6616 Loss 0.2237\n",
      "Epoch 1/10 Batch 1100/6616 Loss 0.2361\n",
      "Epoch 1/10 Batch 1200/6616 Loss 0.2502\n",
      "Epoch 1/10 Batch 1300/6616 Loss 0.2545\n",
      "Epoch 1/10 Batch 1400/6616 Loss 0.2492\n",
      "Epoch 1/10 Batch 1500/6616 Loss 0.2386\n",
      "Epoch 1/10 Batch 1600/6616 Loss 0.2540\n",
      "Epoch 1/10 Batch 1700/6616 Loss 0.2024\n",
      "Epoch 1/10 Batch 1800/6616 Loss 0.2403\n",
      "Epoch 1/10 Batch 1900/6616 Loss 0.2186\n",
      "Epoch 1/10 Batch 2000/6616 Loss 0.2124\n",
      "Epoch 1/10 Batch 2100/6616 Loss 0.2295\n",
      "Epoch 1/10 Batch 2200/6616 Loss 0.2178\n",
      "Epoch 1/10 Batch 2300/6616 Loss 0.2378\n",
      "Epoch 1/10 Batch 2400/6616 Loss 0.2384\n",
      "Epoch 1/10 Batch 2500/6616 Loss 0.2075\n",
      "Epoch 1/10 Batch 2600/6616 Loss 0.2034\n",
      "Epoch 1/10 Batch 2700/6616 Loss 0.2384\n",
      "Epoch 1/10 Batch 2800/6616 Loss 0.2604\n",
      "Epoch 1/10 Batch 2900/6616 Loss 0.1862\n",
      "Epoch 1/10 Batch 3000/6616 Loss 0.2381\n",
      "Epoch 1/10 Batch 3100/6616 Loss 0.2196\n",
      "Epoch 1/10 Batch 3200/6616 Loss 0.2032\n",
      "Epoch 1/10 Batch 3300/6616 Loss 0.2422\n",
      "Epoch 1/10 Batch 3400/6616 Loss 0.2537\n",
      "Epoch 1/10 Batch 3500/6616 Loss 0.2172\n",
      "Epoch 1/10 Batch 3600/6616 Loss 0.2040\n",
      "Epoch 1/10 Batch 3700/6616 Loss 0.1897\n",
      "Epoch 1/10 Batch 3800/6616 Loss 0.1961\n",
      "Epoch 1/10 Batch 3900/6616 Loss 0.1897\n",
      "Epoch 1/10 Batch 4000/6616 Loss 0.1760\n",
      "Epoch 1/10 Batch 4100/6616 Loss 0.2049\n",
      "Epoch 1/10 Batch 4200/6616 Loss 0.2037\n",
      "Epoch 1/10 Batch 4300/6616 Loss 0.2001\n",
      "Epoch 1/10 Batch 4400/6616 Loss 0.1718\n",
      "Epoch 1/10 Batch 4500/6616 Loss 0.1605\n",
      "Epoch 1/10 Batch 4600/6616 Loss 0.1878\n",
      "Epoch 1/10 Batch 4700/6616 Loss 0.1632\n",
      "Epoch 1/10 Batch 4800/6616 Loss 0.1511\n",
      "Epoch 1/10 Batch 4900/6616 Loss 0.1837\n",
      "Epoch 1/10 Batch 5000/6616 Loss 0.1735\n",
      "Epoch 1/10 Batch 5100/6616 Loss 0.1873\n",
      "Epoch 1/10 Batch 5200/6616 Loss 0.1662\n",
      "Epoch 1/10 Batch 5300/6616 Loss 0.1468\n",
      "Epoch 1/10 Batch 5400/6616 Loss 0.1438\n",
      "Epoch 1/10 Batch 5500/6616 Loss 0.1670\n",
      "Epoch 1/10 Batch 5600/6616 Loss 0.1492\n",
      "Epoch 1/10 Batch 5700/6616 Loss 0.1561\n",
      "Epoch 1/10 Batch 5800/6616 Loss 0.2021\n",
      "Epoch 1/10 Batch 5900/6616 Loss 0.1550\n",
      "Epoch 1/10 Batch 6000/6616 Loss 0.1409\n",
      "Epoch 1/10 Batch 6100/6616 Loss 0.2005\n",
      "Epoch 1/10 Batch 6200/6616 Loss 0.1419\n",
      "Epoch 1/10 Batch 6300/6616 Loss 0.1711\n",
      "Epoch 1/10 Batch 6400/6616 Loss 0.1712\n",
      "Epoch 1/10 Batch 6500/6616 Loss 0.1420\n",
      "Epoch 1/10 Batch 6600/6616 Loss 0.1600\n",
      "Epoch 1/10 Loss 0.2094\n",
      "Time taken for 1 epoch 5846.649492025375 sec\n",
      "\n",
      "Training total score: 0.14482673114681438\n",
      "Validation total score: 0.15504040690709134\n",
      "Total duration: 187.5888123671214 min\n",
      "\n",
      "Epoch 2/10 Batch 0/6616 Loss 0.1745\n",
      "Epoch 2/10 Batch 100/6616 Loss 0.1456\n",
      "Epoch 2/10 Batch 200/6616 Loss 0.1503\n",
      "Epoch 2/10 Batch 300/6616 Loss 0.1328\n",
      "Epoch 2/10 Batch 400/6616 Loss 0.1396\n",
      "Epoch 2/10 Batch 500/6616 Loss 0.1211\n",
      "Epoch 2/10 Batch 600/6616 Loss 0.1514\n",
      "Epoch 2/10 Batch 700/6616 Loss 0.1476\n",
      "Epoch 2/10 Batch 800/6616 Loss 0.1274\n",
      "Epoch 2/10 Batch 900/6616 Loss 0.1274\n",
      "Epoch 2/10 Batch 1000/6616 Loss 0.1381\n",
      "Epoch 2/10 Batch 1100/6616 Loss 0.1459\n",
      "Epoch 2/10 Batch 1200/6616 Loss 0.1471\n",
      "Epoch 2/10 Batch 1300/6616 Loss 0.1287\n",
      "Epoch 2/10 Batch 1400/6616 Loss 0.1603\n",
      "Epoch 2/10 Batch 1500/6616 Loss 0.1090\n",
      "Epoch 2/10 Batch 1600/6616 Loss 0.1233\n",
      "Epoch 2/10 Batch 1700/6616 Loss 0.1223\n",
      "Epoch 2/10 Batch 1800/6616 Loss 0.1437\n",
      "Epoch 2/10 Batch 1900/6616 Loss 0.1200\n",
      "Epoch 2/10 Batch 2000/6616 Loss 0.1330\n",
      "Epoch 2/10 Batch 2100/6616 Loss 0.1357\n",
      "Epoch 2/10 Batch 2200/6616 Loss 0.1142\n",
      "Epoch 2/10 Batch 2300/6616 Loss 0.1345\n",
      "Epoch 2/10 Batch 2400/6616 Loss 0.1295\n",
      "Epoch 2/10 Batch 2500/6616 Loss 0.1202\n",
      "Epoch 2/10 Batch 2600/6616 Loss 0.1583\n",
      "Epoch 2/10 Batch 2700/6616 Loss 0.1342\n",
      "Epoch 2/10 Batch 2800/6616 Loss 0.1459\n",
      "Epoch 2/10 Batch 2900/6616 Loss 0.1359\n",
      "Epoch 2/10 Batch 3000/6616 Loss 0.1131\n",
      "Epoch 2/10 Batch 3100/6616 Loss 0.1142\n",
      "Epoch 2/10 Batch 3200/6616 Loss 0.1070\n",
      "Epoch 2/10 Batch 3300/6616 Loss 0.1172\n",
      "Epoch 2/10 Batch 3400/6616 Loss 0.1214\n",
      "Epoch 2/10 Batch 3500/6616 Loss 0.1655\n",
      "Epoch 2/10 Batch 3600/6616 Loss 0.1209\n",
      "Epoch 2/10 Batch 3700/6616 Loss 0.1190\n",
      "Epoch 2/10 Batch 3800/6616 Loss 0.1480\n",
      "Epoch 2/10 Batch 3900/6616 Loss 0.1069\n",
      "Epoch 2/10 Batch 4000/6616 Loss 0.1142\n",
      "Epoch 2/10 Batch 4100/6616 Loss 0.0921\n",
      "Epoch 2/10 Batch 4200/6616 Loss 0.0965\n",
      "Epoch 2/10 Batch 4300/6616 Loss 0.1041\n",
      "Epoch 2/10 Batch 4400/6616 Loss 0.1337\n",
      "Epoch 2/10 Batch 4500/6616 Loss 0.1230\n",
      "Epoch 2/10 Batch 4600/6616 Loss 0.1056\n",
      "Epoch 2/10 Batch 4700/6616 Loss 0.1391\n",
      "Epoch 2/10 Batch 4800/6616 Loss 0.0942\n",
      "Epoch 2/10 Batch 4900/6616 Loss 0.0983\n",
      "Epoch 2/10 Batch 5000/6616 Loss 0.0925\n",
      "Epoch 2/10 Batch 5100/6616 Loss 0.0979\n",
      "Epoch 2/10 Batch 5200/6616 Loss 0.1076\n",
      "Epoch 2/10 Batch 5300/6616 Loss 0.1475\n",
      "Epoch 2/10 Batch 5400/6616 Loss 0.1050\n",
      "Epoch 2/10 Batch 5500/6616 Loss 0.1101\n",
      "Epoch 2/10 Batch 5600/6616 Loss 0.0949\n",
      "Epoch 2/10 Batch 5700/6616 Loss 0.0923\n",
      "Epoch 2/10 Batch 5800/6616 Loss 0.1064\n",
      "Epoch 2/10 Batch 5900/6616 Loss 0.0886\n",
      "Epoch 2/10 Batch 6000/6616 Loss 0.0933\n",
      "Epoch 2/10 Batch 6100/6616 Loss 0.0850\n",
      "Epoch 2/10 Batch 6200/6616 Loss 0.0921\n",
      "Epoch 2/10 Batch 6300/6616 Loss 0.0918\n",
      "Epoch 2/10 Batch 6400/6616 Loss 0.0864\n",
      "Epoch 2/10 Batch 6500/6616 Loss 0.1374\n",
      "Epoch 2/10 Batch 6600/6616 Loss 0.1049\n",
      "Epoch 2/10 Loss 0.1228\n",
      "Time taken for 1 epoch 5781.411147594452 sec\n",
      "\n",
      "Training total score: 0.08611510265697393\n",
      "Validation total score: 0.10562551611540269\n",
      "Total duration: 183.67734802961348 min\n",
      "\n",
      "Epoch 3/10 Batch 0/6616 Loss 0.0990\n",
      "Epoch 3/10 Batch 100/6616 Loss 0.0904\n",
      "Epoch 3/10 Batch 200/6616 Loss 0.0876\n",
      "Epoch 3/10 Batch 300/6616 Loss 0.0819\n",
      "Epoch 3/10 Batch 400/6616 Loss 0.0898\n",
      "Epoch 3/10 Batch 500/6616 Loss 0.1002\n",
      "Epoch 3/10 Batch 600/6616 Loss 0.0903\n",
      "Epoch 3/10 Batch 700/6616 Loss 0.0799\n",
      "Epoch 3/10 Batch 800/6616 Loss 0.0698\n",
      "Epoch 3/10 Batch 900/6616 Loss 0.0902\n",
      "Epoch 3/10 Batch 1000/6616 Loss 0.0756\n",
      "Epoch 3/10 Batch 1100/6616 Loss 0.0750\n",
      "Epoch 3/10 Batch 1200/6616 Loss 0.0881\n",
      "Epoch 3/10 Batch 1300/6616 Loss 0.0844\n",
      "Epoch 3/10 Batch 1400/6616 Loss 0.0905\n",
      "Epoch 3/10 Batch 1500/6616 Loss 0.0814\n",
      "Epoch 3/10 Batch 1600/6616 Loss 0.0764\n",
      "Epoch 3/10 Batch 1700/6616 Loss 0.0696\n",
      "Epoch 3/10 Batch 1800/6616 Loss 0.0886\n",
      "Epoch 3/10 Batch 1900/6616 Loss 0.0863\n",
      "Epoch 3/10 Batch 2000/6616 Loss 0.0916\n",
      "Epoch 3/10 Batch 2100/6616 Loss 0.0676\n",
      "Epoch 3/10 Batch 2200/6616 Loss 0.0700\n",
      "Epoch 3/10 Batch 2300/6616 Loss 0.0921\n",
      "Epoch 3/10 Batch 2400/6616 Loss 0.0909\n",
      "Epoch 3/10 Batch 2500/6616 Loss 0.0988\n",
      "Epoch 3/10 Batch 2600/6616 Loss 0.0883\n",
      "Epoch 3/10 Batch 2700/6616 Loss 0.0804\n",
      "Epoch 3/10 Batch 2800/6616 Loss 0.0732\n",
      "Epoch 3/10 Batch 2900/6616 Loss 0.0751\n",
      "Epoch 3/10 Batch 3000/6616 Loss 0.0584\n",
      "Epoch 3/10 Batch 3100/6616 Loss 0.0691\n",
      "Epoch 3/10 Batch 3200/6616 Loss 0.0870\n",
      "Epoch 3/10 Batch 3300/6616 Loss 0.0804\n",
      "Epoch 3/10 Batch 3400/6616 Loss 0.0643\n",
      "Epoch 3/10 Batch 3500/6616 Loss 0.0925\n",
      "Epoch 3/10 Batch 3600/6616 Loss 0.0976\n",
      "Epoch 3/10 Batch 3700/6616 Loss 0.0981\n",
      "Epoch 3/10 Batch 3800/6616 Loss 0.0943\n",
      "Epoch 3/10 Batch 3900/6616 Loss 0.1048\n",
      "Epoch 3/10 Batch 4000/6616 Loss 0.0641\n",
      "Epoch 3/10 Batch 4100/6616 Loss 0.0615\n",
      "Epoch 3/10 Batch 4200/6616 Loss 0.0603\n",
      "Epoch 3/10 Batch 4300/6616 Loss 0.0752\n",
      "Epoch 3/10 Batch 4400/6616 Loss 0.0608\n",
      "Epoch 3/10 Batch 4500/6616 Loss 0.0833\n",
      "Epoch 3/10 Batch 4600/6616 Loss 0.0810\n",
      "Epoch 3/10 Batch 4700/6616 Loss 0.0945\n",
      "Epoch 3/10 Batch 4800/6616 Loss 0.0745\n",
      "Epoch 3/10 Batch 4900/6616 Loss 0.0811\n",
      "Epoch 3/10 Batch 5000/6616 Loss 0.0813\n",
      "Epoch 3/10 Batch 5100/6616 Loss 0.0764\n",
      "Epoch 3/10 Batch 5200/6616 Loss 0.0839\n",
      "Epoch 3/10 Batch 5300/6616 Loss 0.0686\n",
      "Epoch 3/10 Batch 5400/6616 Loss 0.0605\n",
      "Epoch 3/10 Batch 5500/6616 Loss 0.0836\n",
      "Epoch 3/10 Batch 5600/6616 Loss 0.0701\n",
      "Epoch 3/10 Batch 5700/6616 Loss 0.0615\n",
      "Epoch 3/10 Batch 5800/6616 Loss 0.0711\n",
      "Epoch 3/10 Batch 5900/6616 Loss 0.0579\n",
      "Epoch 3/10 Batch 6000/6616 Loss 0.0762\n",
      "Epoch 3/10 Batch 6100/6616 Loss 0.0812\n",
      "Epoch 3/10 Batch 6200/6616 Loss 0.0530\n",
      "Epoch 3/10 Batch 6300/6616 Loss 0.0824\n",
      "Epoch 3/10 Batch 6400/6616 Loss 0.0842\n",
      "Epoch 3/10 Batch 6500/6616 Loss 0.0568\n",
      "Epoch 3/10 Batch 6600/6616 Loss 0.0599\n",
      "Epoch 3/10 Loss 0.0765\n",
      "Time taken for 1 epoch 5734.591486215591 sec\n",
      "\n",
      "Training total score: 0.051097890364677344\n",
      "Validation total score: 0.07744923013340589\n",
      "Total duration: 182.4444658637047 min\n",
      "\n",
      "Epoch 4/10 Batch 0/6616 Loss 0.0510\n"
     ]
    },
    {
     "ename": "KeyboardInterrupt",
     "evalue": "",
     "output_type": "error",
     "traceback": [
      "\u001b[1;31m---------------------------------------------------------------------------\u001b[0m",
      "\u001b[1;31mKeyboardInterrupt\u001b[0m                         Traceback (most recent call last)",
      "\u001b[1;32m<ipython-input-27-326946c707ed>\u001b[0m in \u001b[0;36m<module>\u001b[1;34m\u001b[0m\n\u001b[0;32m     12\u001b[0m \u001b[1;33m\u001b[0m\u001b[0m\n\u001b[0;32m     13\u001b[0m     \u001b[1;32mfor\u001b[0m \u001b[1;33m(\u001b[0m\u001b[0mbatch\u001b[0m\u001b[1;33m,\u001b[0m \u001b[1;33m(\u001b[0m\u001b[0minp\u001b[0m\u001b[1;33m,\u001b[0m \u001b[0mtarg\u001b[0m\u001b[1;33m)\u001b[0m\u001b[1;33m)\u001b[0m \u001b[1;32min\u001b[0m \u001b[0menumerate\u001b[0m\u001b[1;33m(\u001b[0m\u001b[0mtrain_dataset\u001b[0m\u001b[1;33m.\u001b[0m\u001b[0mtake\u001b[0m\u001b[1;33m(\u001b[0m\u001b[0msteps_per_epoch\u001b[0m\u001b[1;33m)\u001b[0m\u001b[1;33m)\u001b[0m\u001b[1;33m:\u001b[0m\u001b[1;33m\u001b[0m\u001b[1;33m\u001b[0m\u001b[0m\n\u001b[1;32m---> 14\u001b[1;33m         \u001b[0mbatch_loss\u001b[0m \u001b[1;33m=\u001b[0m \u001b[0mtrain_step\u001b[0m\u001b[1;33m(\u001b[0m\u001b[0minp\u001b[0m\u001b[1;33m,\u001b[0m \u001b[0mtarg\u001b[0m\u001b[1;33m,\u001b[0m \u001b[0menc_hidden\u001b[0m\u001b[1;33m)\u001b[0m\u001b[1;33m\u001b[0m\u001b[1;33m\u001b[0m\u001b[0m\n\u001b[0m\u001b[0;32m     15\u001b[0m         \u001b[0mtotal_loss\u001b[0m \u001b[1;33m+=\u001b[0m \u001b[0mbatch_loss\u001b[0m\u001b[1;33m\u001b[0m\u001b[1;33m\u001b[0m\u001b[0m\n\u001b[0;32m     16\u001b[0m         \u001b[0mconta\u001b[0m\u001b[1;33m+=\u001b[0m \u001b[1;36m1\u001b[0m\u001b[1;33m\u001b[0m\u001b[1;33m\u001b[0m\u001b[0m\n",
      "\u001b[1;32m~\\anaconda3\\lib\\site-packages\\tensorflow\\python\\util\\traceback_utils.py\u001b[0m in \u001b[0;36merror_handler\u001b[1;34m(*args, **kwargs)\u001b[0m\n\u001b[0;32m    148\u001b[0m     \u001b[0mfiltered_tb\u001b[0m \u001b[1;33m=\u001b[0m \u001b[1;32mNone\u001b[0m\u001b[1;33m\u001b[0m\u001b[1;33m\u001b[0m\u001b[0m\n\u001b[0;32m    149\u001b[0m     \u001b[1;32mtry\u001b[0m\u001b[1;33m:\u001b[0m\u001b[1;33m\u001b[0m\u001b[1;33m\u001b[0m\u001b[0m\n\u001b[1;32m--> 150\u001b[1;33m       \u001b[1;32mreturn\u001b[0m \u001b[0mfn\u001b[0m\u001b[1;33m(\u001b[0m\u001b[1;33m*\u001b[0m\u001b[0margs\u001b[0m\u001b[1;33m,\u001b[0m \u001b[1;33m**\u001b[0m\u001b[0mkwargs\u001b[0m\u001b[1;33m)\u001b[0m\u001b[1;33m\u001b[0m\u001b[1;33m\u001b[0m\u001b[0m\n\u001b[0m\u001b[0;32m    151\u001b[0m     \u001b[1;32mexcept\u001b[0m \u001b[0mException\u001b[0m \u001b[1;32mas\u001b[0m \u001b[0me\u001b[0m\u001b[1;33m:\u001b[0m\u001b[1;33m\u001b[0m\u001b[1;33m\u001b[0m\u001b[0m\n\u001b[0;32m    152\u001b[0m       \u001b[0mfiltered_tb\u001b[0m \u001b[1;33m=\u001b[0m \u001b[0m_process_traceback_frames\u001b[0m\u001b[1;33m(\u001b[0m\u001b[0me\u001b[0m\u001b[1;33m.\u001b[0m\u001b[0m__traceback__\u001b[0m\u001b[1;33m)\u001b[0m\u001b[1;33m\u001b[0m\u001b[1;33m\u001b[0m\u001b[0m\n",
      "\u001b[1;32m~\\anaconda3\\lib\\site-packages\\tensorflow\\python\\eager\\def_function.py\u001b[0m in \u001b[0;36m__call__\u001b[1;34m(self, *args, **kwds)\u001b[0m\n\u001b[0;32m    908\u001b[0m \u001b[1;33m\u001b[0m\u001b[0m\n\u001b[0;32m    909\u001b[0m       \u001b[1;32mwith\u001b[0m \u001b[0mOptionalXlaContext\u001b[0m\u001b[1;33m(\u001b[0m\u001b[0mself\u001b[0m\u001b[1;33m.\u001b[0m\u001b[0m_jit_compile\u001b[0m\u001b[1;33m)\u001b[0m\u001b[1;33m:\u001b[0m\u001b[1;33m\u001b[0m\u001b[1;33m\u001b[0m\u001b[0m\n\u001b[1;32m--> 910\u001b[1;33m         \u001b[0mresult\u001b[0m \u001b[1;33m=\u001b[0m \u001b[0mself\u001b[0m\u001b[1;33m.\u001b[0m\u001b[0m_call\u001b[0m\u001b[1;33m(\u001b[0m\u001b[1;33m*\u001b[0m\u001b[0margs\u001b[0m\u001b[1;33m,\u001b[0m \u001b[1;33m**\u001b[0m\u001b[0mkwds\u001b[0m\u001b[1;33m)\u001b[0m\u001b[1;33m\u001b[0m\u001b[1;33m\u001b[0m\u001b[0m\n\u001b[0m\u001b[0;32m    911\u001b[0m \u001b[1;33m\u001b[0m\u001b[0m\n\u001b[0;32m    912\u001b[0m       \u001b[0mnew_tracing_count\u001b[0m \u001b[1;33m=\u001b[0m \u001b[0mself\u001b[0m\u001b[1;33m.\u001b[0m\u001b[0mexperimental_get_tracing_count\u001b[0m\u001b[1;33m(\u001b[0m\u001b[1;33m)\u001b[0m\u001b[1;33m\u001b[0m\u001b[1;33m\u001b[0m\u001b[0m\n",
      "\u001b[1;32m~\\anaconda3\\lib\\site-packages\\tensorflow\\python\\eager\\def_function.py\u001b[0m in \u001b[0;36m_call\u001b[1;34m(self, *args, **kwds)\u001b[0m\n\u001b[0;32m    940\u001b[0m       \u001b[1;31m# In this case we have created variables on the first call, so we run the\u001b[0m\u001b[1;33m\u001b[0m\u001b[1;33m\u001b[0m\u001b[1;33m\u001b[0m\u001b[0m\n\u001b[0;32m    941\u001b[0m       \u001b[1;31m# defunned version which is guaranteed to never create variables.\u001b[0m\u001b[1;33m\u001b[0m\u001b[1;33m\u001b[0m\u001b[1;33m\u001b[0m\u001b[0m\n\u001b[1;32m--> 942\u001b[1;33m       \u001b[1;32mreturn\u001b[0m \u001b[0mself\u001b[0m\u001b[1;33m.\u001b[0m\u001b[0m_stateless_fn\u001b[0m\u001b[1;33m(\u001b[0m\u001b[1;33m*\u001b[0m\u001b[0margs\u001b[0m\u001b[1;33m,\u001b[0m \u001b[1;33m**\u001b[0m\u001b[0mkwds\u001b[0m\u001b[1;33m)\u001b[0m  \u001b[1;31m# pylint: disable=not-callable\u001b[0m\u001b[1;33m\u001b[0m\u001b[1;33m\u001b[0m\u001b[0m\n\u001b[0m\u001b[0;32m    943\u001b[0m     \u001b[1;32melif\u001b[0m \u001b[0mself\u001b[0m\u001b[1;33m.\u001b[0m\u001b[0m_stateful_fn\u001b[0m \u001b[1;32mis\u001b[0m \u001b[1;32mnot\u001b[0m \u001b[1;32mNone\u001b[0m\u001b[1;33m:\u001b[0m\u001b[1;33m\u001b[0m\u001b[1;33m\u001b[0m\u001b[0m\n\u001b[0;32m    944\u001b[0m       \u001b[1;31m# Release the lock early so that multiple threads can perform the call\u001b[0m\u001b[1;33m\u001b[0m\u001b[1;33m\u001b[0m\u001b[1;33m\u001b[0m\u001b[0m\n",
      "\u001b[1;32m~\\anaconda3\\lib\\site-packages\\tensorflow\\python\\eager\\function.py\u001b[0m in \u001b[0;36m__call__\u001b[1;34m(self, *args, **kwargs)\u001b[0m\n\u001b[0;32m   3128\u001b[0m       (graph_function,\n\u001b[0;32m   3129\u001b[0m        filtered_flat_args) = self._maybe_define_function(args, kwargs)\n\u001b[1;32m-> 3130\u001b[1;33m     return graph_function._call_flat(\n\u001b[0m\u001b[0;32m   3131\u001b[0m         filtered_flat_args, captured_inputs=graph_function.captured_inputs)  # pylint: disable=protected-access\n\u001b[0;32m   3132\u001b[0m \u001b[1;33m\u001b[0m\u001b[0m\n",
      "\u001b[1;32m~\\anaconda3\\lib\\site-packages\\tensorflow\\python\\eager\\function.py\u001b[0m in \u001b[0;36m_call_flat\u001b[1;34m(self, args, captured_inputs, cancellation_manager)\u001b[0m\n\u001b[0;32m   1957\u001b[0m         and executing_eagerly):\n\u001b[0;32m   1958\u001b[0m       \u001b[1;31m# No tape is watching; skip to running the function.\u001b[0m\u001b[1;33m\u001b[0m\u001b[1;33m\u001b[0m\u001b[1;33m\u001b[0m\u001b[0m\n\u001b[1;32m-> 1959\u001b[1;33m       return self._build_call_outputs(self._inference_function.call(\n\u001b[0m\u001b[0;32m   1960\u001b[0m           ctx, args, cancellation_manager=cancellation_manager))\n\u001b[0;32m   1961\u001b[0m     forward_backward = self._select_forward_and_backward_functions(\n",
      "\u001b[1;32m~\\anaconda3\\lib\\site-packages\\tensorflow\\python\\eager\\function.py\u001b[0m in \u001b[0;36mcall\u001b[1;34m(self, ctx, args, cancellation_manager)\u001b[0m\n\u001b[0;32m    596\u001b[0m       \u001b[1;32mwith\u001b[0m \u001b[0m_InterpolateFunctionError\u001b[0m\u001b[1;33m(\u001b[0m\u001b[0mself\u001b[0m\u001b[1;33m)\u001b[0m\u001b[1;33m:\u001b[0m\u001b[1;33m\u001b[0m\u001b[1;33m\u001b[0m\u001b[0m\n\u001b[0;32m    597\u001b[0m         \u001b[1;32mif\u001b[0m \u001b[0mcancellation_manager\u001b[0m \u001b[1;32mis\u001b[0m \u001b[1;32mNone\u001b[0m\u001b[1;33m:\u001b[0m\u001b[1;33m\u001b[0m\u001b[1;33m\u001b[0m\u001b[0m\n\u001b[1;32m--> 598\u001b[1;33m           outputs = execute.execute(\n\u001b[0m\u001b[0;32m    599\u001b[0m               \u001b[0mstr\u001b[0m\u001b[1;33m(\u001b[0m\u001b[0mself\u001b[0m\u001b[1;33m.\u001b[0m\u001b[0msignature\u001b[0m\u001b[1;33m.\u001b[0m\u001b[0mname\u001b[0m\u001b[1;33m)\u001b[0m\u001b[1;33m,\u001b[0m\u001b[1;33m\u001b[0m\u001b[1;33m\u001b[0m\u001b[0m\n\u001b[0;32m    600\u001b[0m               \u001b[0mnum_outputs\u001b[0m\u001b[1;33m=\u001b[0m\u001b[0mself\u001b[0m\u001b[1;33m.\u001b[0m\u001b[0m_num_outputs\u001b[0m\u001b[1;33m,\u001b[0m\u001b[1;33m\u001b[0m\u001b[1;33m\u001b[0m\u001b[0m\n",
      "\u001b[1;32m~\\anaconda3\\lib\\site-packages\\tensorflow\\python\\eager\\execute.py\u001b[0m in \u001b[0;36mquick_execute\u001b[1;34m(op_name, num_outputs, inputs, attrs, ctx, name)\u001b[0m\n\u001b[0;32m     56\u001b[0m   \u001b[1;32mtry\u001b[0m\u001b[1;33m:\u001b[0m\u001b[1;33m\u001b[0m\u001b[1;33m\u001b[0m\u001b[0m\n\u001b[0;32m     57\u001b[0m     \u001b[0mctx\u001b[0m\u001b[1;33m.\u001b[0m\u001b[0mensure_initialized\u001b[0m\u001b[1;33m(\u001b[0m\u001b[1;33m)\u001b[0m\u001b[1;33m\u001b[0m\u001b[1;33m\u001b[0m\u001b[0m\n\u001b[1;32m---> 58\u001b[1;33m     tensors = pywrap_tfe.TFE_Py_Execute(ctx._handle, device_name, op_name,\n\u001b[0m\u001b[0;32m     59\u001b[0m                                         inputs, attrs, num_outputs)\n\u001b[0;32m     60\u001b[0m   \u001b[1;32mexcept\u001b[0m \u001b[0mcore\u001b[0m\u001b[1;33m.\u001b[0m\u001b[0m_NotOkStatusException\u001b[0m \u001b[1;32mas\u001b[0m \u001b[0me\u001b[0m\u001b[1;33m:\u001b[0m\u001b[1;33m\u001b[0m\u001b[1;33m\u001b[0m\u001b[0m\n",
      "\u001b[1;31mKeyboardInterrupt\u001b[0m: "
     ]
    }
   ],
   "source": [
    "EPOCHS = 10\n",
    "print( \"le iterazioni totali saranno:\", steps_per_epoch,\"per epoca, in totale:\",(steps_per_epoch*EPOCHS))\n",
    "loss_tr_values = []\n",
    "loss_vl_values = []\n",
    "\n",
    "for epoch in range(EPOCHS):\n",
    "    start = time.time()\n",
    "\n",
    "    enc_hidden = encoder.initialize_hidden_state()\n",
    "    total_loss = 0\n",
    "    conta=0\n",
    "    \n",
    "    for (batch, (inp, targ)) in enumerate(train_dataset.take(steps_per_epoch)):\n",
    "        batch_loss = train_step(inp, targ, enc_hidden)\n",
    "        total_loss += batch_loss\n",
    "        conta+= 1\n",
    "        if batch % 100 == 0:\n",
    "          print('Epoch {}/{} Batch {}/{} Loss {:.4f}'.format(epoch + 1,EPOCHS,\n",
    "                                                       batch,  steps_per_epoch,\n",
    "                                                       batch_loss.numpy()))\n",
    "    # saving (checkpoint) the model every 2 epochs\n",
    "    #if (epoch + 1) % 2 == 0:\n",
    "    #    checkpoint.save(file_prefix = checkpoint_prefix)\n",
    "        \n",
    "    print('Epoch {}/{} Loss {:.4f}'.format(epoch + 1, EPOCHS,\n",
    "                                      total_loss/conta))\n",
    "    print('Time taken for 1 epoch {} sec\\n'.format(time.time() - start))\n",
    "\n",
    "    #Compute LOSS training\n",
    "    ls=validation_score(enc_hidden,train_dataset)\n",
    "    loss_tr_values.append(ls)\n",
    "    print('Training total score:',ls)\n",
    "    \n",
    "    #Compute LOSS validation\n",
    "    vs=validation_score(enc_hidden,val_dataset)\n",
    "    loss_vl_values.append(vs)\n",
    "    print('Validation total score:',vs)\n",
    "\n",
    "    \n",
    "    print('Total duration: {} min\\n'.format((time.time() - start)/60.0))\n",
    "\n",
    "make_graph(loss_tr_values,loss_vl_values)\n",
    "\n",
    "#Compute LOSS for test\n",
    "\n",
    "#ls=validation_score(enc_hidden,test_data)\n",
    "#print('Test total score:',ls)"
   ]
  },
  {
   "cell_type": "code",
   "execution_count": 29,
   "metadata": {},
   "outputs": [
    {
     "name": "stderr",
     "output_type": "stream",
     "text": [
      "<ipython-input-26-e0d72c9850d0>:3: UserWarning: color is redundantly defined by the 'color' keyword argument and the fmt string \"b\" (-> color=(0.0, 0.0, 1.0, 1)). The keyword argument will take precedence.\n",
      "  plt.plot(epochs, loss_tr_values, 'b', label='Training Loss', c='r')\n",
      "<ipython-input-26-e0d72c9850d0>:4: UserWarning: color is redundantly defined by the 'color' keyword argument and the fmt string \"b\" (-> color=(0.0, 0.0, 1.0, 1)). The keyword argument will take precedence.\n",
      "  plt.plot(epochs, loss_vl_values, 'b', label='Validation Loss', c='b')\n"
     ]
    },
    {
     "data": {
      "image/png": "[encoded data removed]",
      "text/plain": [
       "<Figure size 432x288 with 1 Axes>"
      ]
     },
     "metadata": {
      "needs_background": "light"
     },
     "output_type": "display_data"
    }
   ],
   "source": [
    "make_graph(loss_tr_values,loss_vl_values)"
   ]
  },
  {
   "cell_type": "code",
   "execution_count": 28,
   "metadata": {},
   "outputs": [
    {
     "data": {
      "text/plain": [
       "'./training_checkpoints\\\\ckpt-1'"
      ]
     },
     "execution_count": 28,
     "metadata": {},
     "output_type": "execute_result"
    }
   ],
   "source": [
    "checkpoint.save(file_prefix = checkpoint_prefix)"
   ]
  },
  {
   "cell_type": "code",
   "execution_count": null,
   "metadata": {
    "colab": {
     "background_save": true
    },
    "id": "NiRuH0CC0A4Q"
   },
   "outputs": [],
   "source": [
    "# restoring the latest checkpoint in checkpoint_dir\n",
    "checkpoint.restore(tf.train.latest_checkpoint(checkpoint_dir))"
   ]
  },
  {
   "cell_type": "code",
   "execution_count": 30,
   "metadata": {
    "colab": {
     "background_save": true
    },
    "id": "m77oLnWmz9st"
   },
   "outputs": [],
   "source": [
    "def evaluate_sentence(sentence):\n",
    "  sentence = dataset_creator.preprocess_sentence(sentence)\n",
    "\n",
    "  inputs = [inp_lang.word_index[i] for i in sentence.split(' ')]\n",
    "  inputs = tf.keras.preprocessing.sequence.pad_sequences([inputs],\n",
    "                                                          maxlen=max_length_input,\n",
    "                                                          padding='post')\n",
    "  inputs = tf.convert_to_tensor(inputs)\n",
    "  inference_batch_size = inputs.shape[0]\n",
    "  result = ''\n",
    "\n",
    "  enc_start_state = [tf.zeros((inference_batch_size, units)), tf.zeros((inference_batch_size,units))]\n",
    "  enc_out, enc_h, enc_c = encoder(inputs, enc_start_state)\n",
    "\n",
    "  dec_h = enc_h\n",
    "  dec_c = enc_c\n",
    "\n",
    "  start_tokens = tf.fill([inference_batch_size], targ_lang.word_index['<start>'])\n",
    "  end_token = targ_lang.word_index['<end>']\n",
    "\n",
    "  greedy_sampler = tfa.seq2seq.GreedyEmbeddingSampler()\n",
    "\n",
    "  # Instantiate BasicDecoder object\n",
    "  decoder_instance = tfa.seq2seq.BasicDecoder(cell=decoder.decoder_rnn_cell, sampler=greedy_sampler, output_layer=decoder.fc)\n",
    "\n",
    "  ### Since the BasicDecoder wraps around Decoder's rnn cell only, you have to ensure that the inputs to BasicDecoder \n",
    "  ### decoding step is output of embedding layer. tfa.seq2seq.GreedyEmbeddingSampler() takes care of this. \n",
    "  ### You only need to get the weights of embedding layer, which can be done by decoder.embedding.variables[0] and pass this callabble to BasicDecoder's call() function\n",
    "\n",
    "  decoder_embedding_matrix = decoder.embedding.variables[0]\n",
    "\n",
    "  outputs, _, _ = decoder_instance(decoder_embedding_matrix, start_tokens = start_tokens, end_token= end_token, initial_state= [enc_h, enc_c])\n",
    "  return outputs.sample_id.numpy()\n",
    "\n",
    "def translate(sentence):\n",
    "  result = evaluate_sentence(sentence)\n",
    "  print(result)\n",
    "  result = targ_lang.sequences_to_texts(result)\n",
    "  print('Input: %s' % (sentence))\n",
    "  print('Predicted translation: {}'.format(result))"
   ]
  },
  {
   "cell_type": "code",
   "execution_count": 31,
   "metadata": {},
   "outputs": [
    {
     "name": "stdout",
     "output_type": "stream",
     "text": [
      "f1: 54.55 % \tbleu: 42.86 %\n"
     ]
    }
   ],
   "source": [
    "from rouge import Rouge\n",
    "from nltk.translate.bleu_score import sentence_bleu\n",
    "\n",
    "#f1 score, BLEU score\n",
    "def valutazioni(reference, candidate):\n",
    "    rouge = Rouge()\n",
    "    reference=reference[:-6]\n",
    "    candidate=candidate[:-6]\n",
    "   \n",
    "    f1_score = round(rouge.get_scores(reference, candidate,avg=True)['rouge-1']['f']*100,2)\n",
    "    bleu_score = round(sentence_bleu([reference.split()], candidate.split(),weights=[1])*100,2)\n",
    "    \n",
    "    #print(\"reference:\",reference,\"candidate:\",candidate,\"bleu:\",bleu_score)\n",
    "    return f1_score,bleu_score\n",
    "\n",
    "\n",
    "frase_input = 'who said you phone ? <end>'\n",
    "frase_target = 'who did you say telephoned you ? <end>'\n",
    "f1,bleu=valutazioni(frase_input,frase_target)\n",
    "\n",
    "print(\"f1:\",f1,\"%\",\"\\tbleu:\",bleu,\"%\")"
   ]
  },
  {
   "cell_type": "code",
   "execution_count": 32,
   "metadata": {},
   "outputs": [],
   "source": [
    "def test(frase_input,frase_target):\n",
    "    frase_tradotta = targ_lang.sequences_to_texts(evaluate_sentence(frase_input))[0]\n",
    "    f1,bleu=valutazioni(frase_tradotta,frase_target)\n",
    "    return f1,bleu\n"
   ]
  },
  {
   "cell_type": "code",
   "execution_count": 33,
   "metadata": {},
   "outputs": [],
   "source": [
    "test_targ=test_dataset[0]\n",
    "test_inpu=test_dataset[1]\n",
    "\n",
    "frase_targ=[]\n",
    "frase_input=[]\n",
    "\n",
    "#print(\"\\nTARGET:\\n\")\n",
    "\n",
    "for i in test_targ:\n",
    "    #frase_input=test(test_inpu[i],parola_giusta) \n",
    "    i=i[8:]   #remove <start>\n",
    "#    i=i[:-6]  #remove <end>\n",
    "    frase_targ.append(i)\n",
    "\n",
    "#print(\"\\nINPUT:\\n\")\n",
    "    \n",
    "for i in test_inpu:\n",
    "    #frase_input=test(test_inpu[i],parola_giusta) \n",
    "    i=i[8:]\n",
    "    i=i[:-6]\n",
    "    frase_input.append(i)"
   ]
  },
  {
   "cell_type": "code",
   "execution_count": 34,
   "metadata": {},
   "outputs": [
    {
     "name": "stdout",
     "output_type": "stream",
     "text": [
      "to err is human , to forgive divine . <end>\n"
     ]
    }
   ],
   "source": [
    "print(frase_targ[1])"
   ]
  },
  {
   "cell_type": "code",
   "execution_count": 35,
   "metadata": {},
   "outputs": [
    {
     "name": "stdout",
     "output_type": "stream",
     "text": [
      "errare e umano , perdonare e divino .\n"
     ]
    }
   ],
   "source": [
    "print(frase_input[1])"
   ]
  },
  {
   "cell_type": "code",
   "execution_count": 38,
   "metadata": {},
   "outputs": [
    {
     "name": "stdout",
     "output_type": "stream",
     "text": [
      "70579\n"
     ]
    }
   ],
   "source": [
    "conta=0\n",
    "sum_f1=0\n",
    "sum_bleu=0\n",
    "print(len(frase_input))\n",
    "for i in range(0,50):\n",
    "    conta+=1\n",
    "    \n",
    "    try:\n",
    "        f1,bleu=test(frase_input[i],frase_targ[i])\n",
    "        sum_f1=sum_f1+f1\n",
    "        sum_bleu=sum_bleu+bleu\n",
    "    except:\n",
    "        conta-=1"
   ]
  },
  {
   "cell_type": "code",
   "execution_count": 39,
   "metadata": {},
   "outputs": [
    {
     "name": "stdout",
     "output_type": "stream",
     "text": [
      "CASI DI TEST TOTALI ANALIZZATI:  50 / 70579\n",
      "F1: 60.84\n",
      "BLEU: 63.65\n"
     ]
    }
   ],
   "source": [
    "total_sum_f1=sum_f1/conta\n",
    "total_sum_bleu=sum_bleu/conta\n",
    "\n",
    "print(\"CASI DI TEST TOTALI ANALIZZATI: \", conta , \"/\", len(frase_input))\n",
    "print(\"F1: {0:.2f}\".format( total_sum_f1) )\n",
    "print(\"BLEU: {0:.2f}\".format(total_sum_bleu) )"
   ]
  },
  {
   "cell_type": "code",
   "execution_count": 40,
   "metadata": {
    "colab": {
     "background_save": true
    },
    "id": "CM-6wEwM0EDh"
   },
   "outputs": [
    {
     "name": "stdout",
     "output_type": "stream",
     "text": [
      "[[ 81 113   6   6  67 280  33   9   3]]\n",
      "Input: Chi hai detto che ti ha telefonato?\n",
      "Predicted translation: ['who told you you were looking for ? <end>']\n"
     ]
    }
   ],
   "source": [
    "translate('Chi hai detto che ti ha telefonato?')"
   ]
  },
  {
   "cell_type": "code",
   "execution_count": 41,
   "metadata": {},
   "outputs": [
    {
     "name": "stdin",
     "output_type": "stream",
     "text": [
      "Italiano:  exit\n"
     ]
    }
   ],
   "source": [
    "text_it = None\n",
    "\n",
    "while text_it != \"exit\":\n",
    "   \n",
    "    text_it = input(\"Italiano: \")\n",
    "    try:\n",
    "        text_en = targ_lang.sequences_to_texts(evaluate_sentence(text_it))\n",
    "    except:\n",
    "        if(text_it!='exit'):\n",
    "            print(\"la parola non esiste nel mio vocabolario, riprova con un altra frase (per terminare digita exit) \")\n",
    "        continue\n",
    "\n",
    "    print('English: {}'.format(text_en)[:-7])\n"
   ]
  },
  {
   "cell_type": "code",
   "execution_count": 42,
   "metadata": {
    "colab": {
     "background_save": true
    },
    "id": "4RodxAKN0FDO"
   },
   "outputs": [
    {
     "name": "stdout",
     "output_type": "stream",
     "text": [
      "[[86 55  6 92  9  3]]\n",
      "Input: dove sei stato?\n",
      "Predicted translation: ['where ve you been ? <end>']\n"
     ]
    }
   ],
   "source": [
    "translate('dove sei stato?')"
   ]
  },
  {
   "cell_type": "code",
   "execution_count": null,
   "metadata": {
    "colab": {
     "background_save": true
    },
    "id": "NkD_NO4P0IEQ"
   },
   "outputs": [],
   "source": [
    "def beam_evaluate_sentence(sentence, beam_width=3):\n",
    "  sentence = dataset_creator.preprocess_sentence(sentence)\n",
    "\n",
    "  inputs = [inp_lang.word_index[i] for i in sentence.split(' ')]\n",
    "  inputs = tf.keras.preprocessing.sequence.pad_sequences([inputs],\n",
    "                                                          maxlen=max_length_input,\n",
    "                                                          padding='post')\n",
    "  inputs = tf.convert_to_tensor(inputs)\n",
    "  inference_batch_size = inputs.shape[0]\n",
    "  result = ''\n",
    "\n",
    "  enc_start_state = [tf.zeros((inference_batch_size, units)), tf.zeros((inference_batch_size,units))]\n",
    "  enc_out, enc_h, enc_c = encoder(inputs, enc_start_state)\n",
    "\n",
    "  dec_h = enc_h\n",
    "  dec_c = enc_c\n",
    "\n",
    "  start_tokens = tf.fill([inference_batch_size], targ_lang.word_index['<start>'])\n",
    "  end_token = targ_lang.word_index['<end>']\n",
    "\n",
    "  # From official documentation\n",
    "  # NOTE If you are using the BeamSearchDecoder with a cell wrapped in AttentionWrapper, then you must ensure that:\n",
    "  # The encoder output has been tiled to beam_width via tfa.seq2seq.tile_batch (NOT tf.tile).\n",
    "  # The batch_size argument passed to the get_initial_state method of this wrapper is equal to true_batch_size * beam_width.\n",
    "  # The initial state created with get_initial_state above contains a cell_state value containing properly tiled final state from the encoder.\n",
    "\n",
    "  enc_out = tfa.seq2seq.tile_batch(enc_out, multiplier=beam_width)\n",
    "  decoder.attention_mechanism.setup_memory(enc_out)\n",
    "  print(\"beam_with * [batch_size, max_length_input, rnn_units] :  3 * [1, 16, 1024]] :\", enc_out.shape)\n",
    "\n",
    "  # set decoder_inital_state which is an AttentionWrapperState considering beam_width\n",
    "  hidden_state = tfa.seq2seq.tile_batch([enc_h, enc_c], multiplier=beam_width)\n",
    "  decoder_initial_state = decoder.rnn_cell.get_initial_state(batch_size=beam_width*inference_batch_size, dtype=tf.float32)\n",
    "  decoder_initial_state = decoder_initial_state.clone(cell_state=hidden_state)\n",
    "\n",
    "  # Instantiate BeamSearchDecoder\n",
    "  decoder_instance = tfa.seq2seq.BeamSearchDecoder(decoder.rnn_cell,beam_width=beam_width, output_layer=decoder.fc)\n",
    "  decoder_embedding_matrix = decoder.embedding.variables[0]\n",
    "\n",
    "  # The BeamSearchDecoder object's call() function takes care of everything.\n",
    "  outputs, final_state, sequence_lengths = decoder_instance(decoder_embedding_matrix, start_tokens=start_tokens, end_token=end_token, initial_state=decoder_initial_state)\n",
    "  # outputs is tfa.seq2seq.FinalBeamSearchDecoderOutput object. \n",
    "  # The final beam predictions are stored in outputs.predicted_id\n",
    "  # outputs.beam_search_decoder_output is a tfa.seq2seq.BeamSearchDecoderOutput object which keep tracks of beam_scores and parent_ids while performing a beam decoding step\n",
    "  # final_state = tfa.seq2seq.BeamSearchDecoderState object.\n",
    "  # Sequence Length = [inference_batch_size, beam_width] details the maximum length of the beams that are generated\n",
    "\n",
    "\n",
    "  # outputs.predicted_id.shape = (inference_batch_size, time_step_outputs, beam_width)\n",
    "  # outputs.beam_search_decoder_output.scores.shape = (inference_batch_size, time_step_outputs, beam_width)\n",
    "  # Convert the shape of outputs and beam_scores to (inference_batch_size, beam_width, time_step_outputs)\n",
    "  final_outputs = tf.transpose(outputs.predicted_ids, perm=(0,2,1))\n",
    "  beam_scores = tf.transpose(outputs.beam_search_decoder_output.scores, perm=(0,2,1))\n",
    "\n",
    "  return final_outputs.numpy(), beam_scores.numpy()"
   ]
  },
  {
   "cell_type": "code",
   "execution_count": null,
   "metadata": {
    "colab": {
     "background_save": true
    },
    "id": "niwJAvFG0JKp"
   },
   "outputs": [],
   "source": [
    "def beam_translate(sentence):\n",
    "  result, beam_scores = beam_evaluate_sentence(sentence)\n",
    "  print(result.shape, beam_scores.shape)\n",
    "  for beam, score in zip(result, beam_scores):\n",
    "    print(beam.shape, score.shape)\n",
    "    output = targ_lang.sequences_to_texts(beam)\n",
    "    output = [a[:a.index('<end>')] for a in output]\n",
    "    beam_score = [a.sum() for a in score]\n",
    "    print('Input: %s' % (sentence))\n",
    "    for i in range(len(output)):\n",
    "      print('{} Predicted translation: {}  {}'.format(i+1, output[i], beam_score[i]))"
   ]
  },
  {
   "cell_type": "code",
   "execution_count": null,
   "metadata": {
    "colab": {
     "background_save": true
    },
    "id": "tCuHL20_0Lt0"
   },
   "outputs": [],
   "source": [
    "beam_translate('oggi sono felice ')"
   ]
  },
  {
   "cell_type": "code",
   "execution_count": null,
   "metadata": {},
   "outputs": [],
   "source": [
    "def beam_translate_only(sentence):\n",
    "    result, beam_scores = beam_evaluate_sentence(sentence)\n",
    "\n",
    "    for beam, score in zip(result, beam_scores):\n",
    "        output = targ_lang.sequences_to_texts(beam)\n",
    "        output = [a[:a.index('<end>')] for a in output]\n",
    "        beam_score = [a.sum() for a in score]\n",
    "    return output"
   ]
  },
  {
   "cell_type": "code",
   "execution_count": null,
   "metadata": {},
   "outputs": [],
   "source": [
    "from nltk.translate.bleu_score import sentence_bleu\n",
    "\n",
    "frase='ciao .'\n",
    "test=beam_translate_only(frase)\n",
    "print(test)\n",
    "\n",
    "reference = [\n",
    "    test[0].split(),\n",
    "    test[0].split(),\n",
    "    test[0].split()\n",
    "]\n",
    "\n",
    "candidate = 'hello .'.split()\n",
    "print(round(sentence_bleu(reference, candidate),2))\n",
    "print('\\n',sentence_bleu(reference, candidate))\n",
    "print('\\nBLEU score :{}'.format(sentence_bleu(\"hello\",\"hello\")))"
   ]
  },
  {
   "cell_type": "code",
   "execution_count": null,
   "metadata": {},
   "outputs": [],
   "source": [
    "from rouge import Rouge\n",
    "\n",
    "frase='ho sete'\n",
    "test=beam_translate_only(frase)\n",
    "print(test[0])\n",
    "\n",
    "rouge = Rouge()\n",
    "\n",
    "target=\"i m thirsty .\"\n",
    "\n",
    "rouge.get_scores(target, test[0],avg=True)"
   ]
  },
  {
   "cell_type": "code",
   "execution_count": null,
   "metadata": {},
   "outputs": [],
   "source": [
    "beam_translate('mi innamoro sempre di più')"
   ]
  },
  {
   "cell_type": "code",
   "execution_count": null,
   "metadata": {
    "colab": {
     "background_save": true
    },
    "id": "hKk_P1SB9bZx"
   },
   "outputs": [],
   "source": [
    "beam_translate('non ci voglio andare')"
   ]
  },
  {
   "cell_type": "code",
   "execution_count": null,
   "metadata": {
    "colab": {
     "background_save": true
    },
    "id": "gmqgpd0lA90H"
   },
   "outputs": [],
   "source": [
    "beam_translate('Amo il mio papà')"
   ]
  },
  {
   "cell_type": "code",
   "execution_count": null,
   "metadata": {
    "colab": {
     "background_save": true
    },
    "id": "Jbusc-HTByo9"
   },
   "outputs": [],
   "source": [
    "beam_translate('ho fame')"
   ]
  },
  {
   "cell_type": "code",
   "execution_count": null,
   "metadata": {
    "colab": {
     "background_save": true
    },
    "id": "LPuZl3jKjmcn"
   },
   "outputs": [],
   "source": [
    "beam_translate('oggi sono andato a scuola con mio padre')"
   ]
  }
 ],
 "metadata": {
  "colab": {
   "collapsed_sections": [],
   "name": "Seq2Seq.ipynb",
   "provenance": []
  },
  "kernelspec": {
   "display_name": "Python 3",
   "language": "python",
   "name": "python3"
  },
  "language_info": {
   "codemirror_mode": {
    "name": "ipython",
    "version": 3
   },
   "file_extension": ".py",
   "mimetype": "text/x-python",
   "name": "python",
   "nbconvert_exporter": "python",
   "pygments_lexer": "ipython3",
   "version": "3.8.3"
  }
 },
 "nbformat": 4,
 "nbformat_minor": 4
}
